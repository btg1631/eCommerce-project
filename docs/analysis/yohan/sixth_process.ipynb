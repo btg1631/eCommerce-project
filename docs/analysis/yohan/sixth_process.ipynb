{
  "nbformat": 4,
  "nbformat_minor": 0,
  "metadata": {
    "colab": {
      "provenance": [],
      "authorship_tag": "ABX9TyMHOROuHidNiWigSDHT+ZE3",
      "include_colab_link": true
    },
    "kernelspec": {
      "name": "python3",
      "display_name": "Python 3"
    },
    "language_info": {
      "name": "python"
    }
  },
  "cells": [
    {
      "cell_type": "markdown",
      "metadata": {
        "id": "view-in-github",
        "colab_type": "text"
      },
      "source": [
        "<a href=\"https://colab.research.google.com/github/btg1631/eCommerce-project/blob/main/docs/analysis/yohan/sixth_process.ipynb\" target=\"_parent\"><img src=\"https://colab.research.google.com/assets/colab-badge.svg\" alt=\"Open In Colab\"/></a>"
      ]
    },
    {
      "cell_type": "code",
      "execution_count": 1,
      "metadata": {
        "colab": {
          "base_uri": "https://localhost:8080/"
        },
        "id": "xVhtxpVBFKWc",
        "outputId": "1cca4ccc-8164-4228-f56c-5c70d89872ab"
      },
      "outputs": [
        {
          "output_type": "stream",
          "name": "stdout",
          "text": [
            "Collecting konlpy\n",
            "  Downloading konlpy-0.6.0-py2.py3-none-any.whl (19.4 MB)\n",
            "\u001b[2K     \u001b[90m━━━━━━━━━━━━━━━━━━━━━━━━━━━━━━━━━━━━━━━━\u001b[0m \u001b[32m19.4/19.4 MB\u001b[0m \u001b[31m36.2 MB/s\u001b[0m eta \u001b[36m0:00:00\u001b[0m\n",
            "\u001b[?25hCollecting JPype1>=0.7.0 (from konlpy)\n",
            "  Downloading JPype1-1.5.0-cp310-cp310-manylinux_2_17_x86_64.manylinux2014_x86_64.whl (488 kB)\n",
            "\u001b[2K     \u001b[90m━━━━━━━━━━━━━━━━━━━━━━━━━━━━━━━━━━━━━━━━\u001b[0m \u001b[32m488.6/488.6 kB\u001b[0m \u001b[31m17.2 MB/s\u001b[0m eta \u001b[36m0:00:00\u001b[0m\n",
            "\u001b[?25hRequirement already satisfied: lxml>=4.1.0 in /usr/local/lib/python3.10/dist-packages (from konlpy) (4.9.4)\n",
            "Requirement already satisfied: numpy>=1.6 in /usr/local/lib/python3.10/dist-packages (from konlpy) (1.25.2)\n",
            "Requirement already satisfied: packaging in /usr/local/lib/python3.10/dist-packages (from JPype1>=0.7.0->konlpy) (24.0)\n",
            "Installing collected packages: JPype1, konlpy\n",
            "Successfully installed JPype1-1.5.0 konlpy-0.6.0\n"
          ]
        }
      ],
      "source": [
        "!pip install konlpy"
      ]
    },
    {
      "cell_type": "code",
      "source": [
        "import warnings\n",
        "\n",
        "# 경고 메시지를 무시하도록 설정\n",
        "warnings.filterwarnings(\"ignore\")"
      ],
      "metadata": {
        "id": "hr3W6MYAFmcI"
      },
      "execution_count": 2,
      "outputs": []
    },
    {
      "cell_type": "code",
      "source": [
        "import pandas as pd\n",
        "from konlpy.tag import Okt"
      ],
      "metadata": {
        "id": "lpg_GdDMFoYA"
      },
      "execution_count": 3,
      "outputs": []
    },
    {
      "cell_type": "code",
      "source": [
        "# 이전 프로세스에서 중간 과정까지의 데이터\n",
        "get_list = [4,3,3,2,8,2,3,2,5,3,2,10,7,4,2,10,4,6,2,3,2,6,2,2,2,3,2,10,9,10,7,2,10,6,10,3,2,2,2,4,5,2,10,4,10,10,4,2,9,2,2,7]"
      ],
      "metadata": {
        "id": "4-YAUKSEFQIW"
      },
      "execution_count": 27,
      "outputs": []
    },
    {
      "cell_type": "code",
      "source": [
        "# 모든 데이터 로드\n",
        "df_bibim1 = pd.read_csv(\"./local.bibim1.csv\")\n",
        "df_bibim2 = pd.read_csv(\"./local.bibim2.csv\")\n",
        "df_bibim3 = pd.read_csv(\"./local.bibim3.csv\")\n",
        "df_bibim4 = pd.read_csv(\"./local.bibim4.csv\")\n",
        "\n",
        "df_oil1 = pd.read_csv(\"./local.oil1.csv\")\n",
        "df_oil2 = pd.read_csv(\"./local.oil2.csv\")\n",
        "df_oil3 = pd.read_csv(\"./local.oil3.csv\")\n",
        "df_oil4 = pd.read_csv(\"./local.oil4.csv\")\n",
        "df_oil5 = pd.read_csv(\"./local.oil5.csv\")\n",
        "\n",
        "df_ham1 = pd.read_csv(\"./local.ham1.csv\")\n",
        "df_ham2 = pd.read_csv(\"./local.ham2.csv\")\n",
        "df_ham3 = pd.read_csv(\"./local.ham3.csv\")\n",
        "df_ham4 = pd.read_csv(\"./local.ham4.csv\")\n",
        "df_ham5 = pd.read_csv(\"./local.ham5.csv\")\n",
        "\n",
        "df_kyoja1 = pd.read_csv(\"./local.kyoja1.csv\")\n",
        "df_kyoja2 = pd.read_csv(\"./local.kyoja2.csv\")\n",
        "df_kyoja3 = pd.read_csv(\"./local.kyoja3.csv\")\n",
        "df_kyoja4 = pd.read_csv(\"./local.kyoja4.csv\")\n",
        "\n",
        "df_tomato1 = pd.read_csv(\"./local.tomato1.csv\")\n",
        "df_tomato2 = pd.read_csv(\"./local.tomato2.csv\")\n",
        "df_tomato3 = pd.read_csv(\"./local.tomato3.csv\")\n",
        "\n",
        "df_canola1 = pd.read_csv(\"./ssg.canola_oil1.csv\")\n",
        "df_canola2 = pd.read_csv(\"./ssg.canola_oil2.csv\")\n",
        "df_canola3 = pd.read_csv(\"./ssg.canola_oil3.csv\")\n",
        "df_canola4 = pd.read_csv(\"./ssg.canola_oil4.csv\")\n",
        "\n",
        "df_kimchi1 = pd.read_csv(\"./ssg.kimchi1.csv\")\n",
        "df_kimchi2 = pd.read_csv(\"./ssg.kimchi2.csv\")\n",
        "df_kimchi3 = pd.read_csv(\"./ssg.kimchi3.csv\")\n",
        "df_kimchi4 = pd.read_csv(\"./ssg.kimchi4.csv\")\n",
        "\n",
        "df_mung_bean_sprouts1 = pd.read_csv(\"./ssg.mung_bean_sprouts1.csv\")\n",
        "df_mung_bean_sprouts2 = pd.read_csv(\"./ssg.mung_bean_sprouts2.csv\")\n",
        "df_mung_bean_sprouts3 = pd.read_csv(\"./ssg.mung_bean_sprouts3.csv\")\n",
        "df_mung_bean_sprouts4 = pd.read_csv(\"./ssg.mung_bean_sprouts4.csv\")\n",
        "\n",
        "df_pancake_powder1 = pd.read_csv(\"./ssg.pancake_powder1.csv\")\n",
        "df_pancake_powder2 = pd.read_csv(\"./ssg.pancake_powder2.csv\")\n",
        "df_pancake_powder3 = pd.read_csv(\"./ssg.pancake_powder3.csv\")\n",
        "df_pancake_powder4 = pd.read_csv(\"./ssg.pancake_powder4.csv\")\n",
        "\n",
        "df_rice1 = pd.read_csv(\"./ssg.rice1.csv\")\n",
        "df_rice2 = pd.read_csv(\"./ssg.rice2.csv\")\n",
        "df_rice3 = pd.read_csv(\"./ssg.rice3.csv\")\n",
        "df_rice4 = pd.read_csv(\"./ssg.rice4.csv\")\n",
        "df_rice5 = pd.read_csv(\"./ssg.rice5.csv\")\n",
        "\n",
        "df_bread1 = pd.read_csv(\"./local.bread_1.csv\")\n",
        "df_bread2 = pd.read_csv(\"./local.bread_2.csv\")\n",
        "df_bread3 = pd.read_csv(\"./local.bread_3.csv\")\n",
        "df_bread4 = pd.read_csv(\"./local.bread_4.csv\")\n",
        "\n",
        "df_cheese1 = pd.read_csv(\"./local.cheese_1.csv\")\n",
        "df_cheese2 = pd.read_csv(\"./local.cheese_2.csv\")\n",
        "df_cheese3 = pd.read_csv(\"./local.cheese_3.csv\")\n",
        "\n",
        "df_milk1 = pd.read_csv(\"./local.milk_1.csv\")\n",
        "df_milk2 = pd.read_csv(\"./local.milk_2.csv\")\n",
        "df_milk3 = pd.read_csv(\"./local.milk_3.csv\")\n",
        "\n",
        "df_water1 = pd.read_csv(\"./local.water_1.csv\")\n",
        "df_water2 = pd.read_csv(\"./local.water_2.csv\")\n",
        "df_water3 = pd.read_csv(\"./local.water_3.csv\")\n",
        "\n",
        "df_yogurt1 = pd.read_csv(\"./local.yogurt_1.csv\")\n",
        "df_yogurt2 = pd.read_csv(\"./local.yogurt_2.csv\")\n",
        "df_yogurt3 = pd.read_csv(\"./local.yogurt_3.csv\")\n",
        "\n",
        "dfs = [df_bibim1,df_bibim2,df_bibim3,df_bibim4,df_oil1,df_oil2,df_oil3,df_oil4,df_oil5,df_ham1,df_ham2,df_ham3,df_ham4,df_ham5,df_kyoja1,df_kyoja2,df_kyoja3,df_kyoja4,df_tomato1,df_tomato2,df_tomato3,df_canola1,df_canola2,df_canola3,df_canola4,df_kimchi1,df_kimchi2,df_kimchi3,df_kimchi4,df_mung_bean_sprouts1,df_mung_bean_sprouts2,df_mung_bean_sprouts3,df_mung_bean_sprouts4,df_pancake_powder1,df_pancake_powder2,df_pancake_powder3,df_pancake_powder4,df_rice1,df_rice2,df_rice3,df_rice4,df_rice5,df_bread1,df_bread2,df_bread3,df_bread4,df_cheese1,df_cheese2,df_cheese3,df_milk1,df_milk2,df_milk3,df_water1,df_water2,df_water3,df_yogurt1,df_yogurt2,df_yogurt3]"
      ],
      "metadata": {
        "id": "4Z1RFQFIFZgO"
      },
      "execution_count": 6,
      "outputs": []
    },
    {
      "cell_type": "code",
      "source": [
        "# 3점을 제외한 나머지 라벨링 작업 함수 제작\n",
        "def labeling(text):\n",
        "    if text in [4,5]:\n",
        "        text = 1\n",
        "    elif text in [1,2]:\n",
        "        text = 0\n",
        "    else:\n",
        "        pass\n",
        "    return text"
      ],
      "metadata": {
        "id": "Mg33Ee1cIPy-"
      },
      "execution_count": 7,
      "outputs": []
    },
    {
      "cell_type": "code",
      "source": [
        "def compare_data(dfs_list,labeling_fuc):\n",
        "    counter = 0\n",
        "    save_data_list = []\n",
        "    for i in dfs_list:\n",
        "        # db저장시 발생했던 고유값 제거\n",
        "        i = i.drop(columns = '_id')\n",
        "\n",
        "        # 라벨링 함수 적용\n",
        "        i['textLevel'] = i['textLevel'].apply(labeling_fuc)\n",
        "\n",
        "\n",
        "        # 딥러닝이슈로 인한 중간값 제외\n",
        "        processing_df = i.query('textLevel != 3')\n",
        "\n",
        "        # 듀플 제거전 긍정/부정 갯수 카운트\n",
        "        posi_count = processing_df[processing_df['textLevel'] == 1].shape[0]\n",
        "        naga_count = processing_df[processing_df['textLevel'] == 0].shape[0]\n",
        "\n",
        "        # 중복값 제거\n",
        "        processing_df = processing_df.drop_duplicates()\n",
        "\n",
        "        deldu_posi_count = processing_df[processing_df['textLevel'] == 1].shape[0]\n",
        "        deldu_naga_count = processing_df[processing_df['textLevel'] == 0].shape[0]\n",
        "\n",
        "        # print(f'{i[\"merchTitle\"][0]} 제품의 제거전 긍정문의 갯수 : {posi_count}')\n",
        "        # print(f'{i[\"merchTitle\"][0]} 제품의 제거전 부정문의 갯수 : {naga_count}')\n",
        "        # print(f'{i[\"merchTitle\"][0]} 제품의 제거후 긍정문의 갯수 : {deldu_posi_count}')\n",
        "        # print(f'{i[\"merchTitle\"][0]} 제품의 제거후 긍정문의 갯수 : {deldu_naga_count}')\n",
        "\n",
        "        # 2차원 리스트로 저장\n",
        "        append_list = [posi_count,naga_count,deldu_posi_count,deldu_naga_count]\n",
        "        save_data_list.append(append_list)\n",
        "\n",
        "        counter += 1\n",
        "        if counter != len(dfs_list):\n",
        "            # print('')\n",
        "            pass\n",
        "\n",
        "    return save_data_list"
      ],
      "metadata": {
        "id": "-K1XewlvIXFW"
      },
      "execution_count": 8,
      "outputs": []
    },
    {
      "cell_type": "code",
      "source": [
        "save_data_list = compare_data(dfs,labeling)"
      ],
      "metadata": {
        "id": "UdDbmZgKIZcl"
      },
      "execution_count": 9,
      "outputs": []
    },
    {
      "cell_type": "code",
      "source": [
        "rate_list = []\n",
        "for i in save_data_list:\n",
        "    rate = ((i[0] - i[2])/i[0])*100\n",
        "    rate_list.append(rate)"
      ],
      "metadata": {
        "id": "BZS-6jTfIbTV"
      },
      "execution_count": 10,
      "outputs": []
    },
    {
      "cell_type": "code",
      "source": [
        "# 기본적인 불용어와 상표명 등의 독립단어 설정\n",
        "stopword1 = ['도', '는', '다', '의', '가', '이', '은', '한', '에', '하', '고', '을', '를', '인', '듯', '과', '와', '네', '들', '듯', '지', '임', '게','의','가','들','는','좀','잘','걍','과','도','를','으로','자','에','와','한','하다']\n",
        "stopword2 = ['팔도','팔도비빔면','비빔면','괄도','네넴띤','괄도네넴띤','농심','배홍동','배홍동비빔면','오뚜기','진비빔면','삼양','찰비빔면','비비고','교자','왕교자','노브랜드','교자만두','만두','왕교자만두','피코크','담백한왕교자','토마토','청정원','파스타소스','폰타나','샘표','뽀모도로','CJ','cj','스팸','클래식','덴마크튤립햄','튤립햄','동원','리챔','하림','닭가슴살햄','챔','더본코리아','빽햄','백종원','고소한참기름','참기름','경천','경천식품','시골참기름','들기름','최순희','백설','통참깨참기름','통참깨','임금님','임금님표','이천쌀','한눈에 반한 쌀','경기미','농협','농협양곡','당진해나루쌀','삼광','의성','의성농협','바른고을','의성진쌀','김치','별미총각김치','총각김치','종가집','종가','오래오래맛있는총각김치','조선호텔특제육수','조선호텔','부침가루','부침','곰표','통감자','자연주의','숙주나물','친환경','국산숙주','숙주','무농약','통통숙주','카놀라유','카놀라오일','카놀라','Coosur','coosur','쿡투게더','부드러운우유식빵','식빵','우유식빵','삼립','롯데','롯데웰푸드','기린','우유','더 메나쥬리','메나쥬리','온가족우유식빵','삼다수','에비앙','백산수','플레인','요거트','덴마크','에치와이','hy','윌','상하','상하치즈','체다','치즈','서울우유','서울','슬라이스','남양','드빈치','체다치즈','갓밀크','굿모닝','굿밀크','헬로우','앙팡']\n",
        "stopword = stopword1 + stopword2"
      ],
      "metadata": {
        "id": "UNeTvtCpIdU-"
      },
      "execution_count": 11,
      "outputs": []
    },
    {
      "cell_type": "code",
      "source": [
        "# Okt 형태소 분석기 인스턴스 생성\n",
        "okt = Okt()\n",
        "\n",
        "import re\n",
        "import numpy as np\n",
        "\n",
        "\n",
        "# 토크나이징 함수 정의\n",
        "def tokenizer(raw, pos=[\"Noun\",\"Alpha\",\"Verb\",\"Number\"], stopword=stopword):\n",
        "\n",
        "  get_list = []\n",
        "\n",
        "  for word, tag in okt.pos(raw,norm=True,stem=True):\n",
        "    if len(word) <= 1:\n",
        "      word = '공란'\n",
        "\n",
        "    if tag in pos and word not in stopword:\n",
        "      get_list.append(word)\n",
        "    else:\n",
        "      get_list.append('공란')\n",
        "    pass\n",
        "\n",
        "\n",
        "  return get_list"
      ],
      "metadata": {
        "id": "aD-sP5kXIent"
      },
      "execution_count": 12,
      "outputs": []
    },
    {
      "cell_type": "code",
      "source": [
        "from sklearn.feature_extraction.text import TfidfVectorizer\n",
        "vectorizer = TfidfVectorizer(tokenizer=tokenizer, use_idf=True)"
      ],
      "metadata": {
        "id": "oaJnqtj6IfzN"
      },
      "execution_count": 13,
      "outputs": []
    },
    {
      "cell_type": "code",
      "source": [
        "from sklearn.metrics import silhouette_score"
      ],
      "metadata": {
        "id": "Jk0xrjORIhZN"
      },
      "execution_count": 14,
      "outputs": []
    },
    {
      "cell_type": "code",
      "source": [
        "def silhouette_point(vectorizer,input_text_list):\n",
        "  k_range = range(2,11)\n",
        "\n",
        "  best_n = -1\n",
        "  best_score = -1\n",
        "  best_score_list = []\n",
        "  for k in k_range:\n",
        "\n",
        "      features = vectorizer.fit_transform(input_text_list)\n",
        "\n",
        "      from sklearn.decomposition import LatentDirichletAllocation\n",
        "\n",
        "      lda_model = LatentDirichletAllocation(n_components=k, random_state=55) #인스턴스화 #n_components 토픽의 갯수\n",
        "      lda_model.fit(features) #교육\n",
        "\n",
        "      clusters = lda_model.transform(features).argmax(axis=1)  # 각 문서의 클러스터 할당\n",
        "\n",
        "      score = silhouette_score(features,clusters)\n",
        "      print('k :',k,'score :',score)\n",
        "\n",
        "      if score > best_score:\n",
        "          best_n = k\n",
        "          best_score = score\n",
        "\n",
        "  print('best n :', best_n, 'best score :', best_score)\n",
        "  best_score_list.append(best_n)\n",
        "\n",
        "  return best_score_list"
      ],
      "metadata": {
        "id": "bfHaL-4FImqP"
      },
      "execution_count": 15,
      "outputs": []
    },
    {
      "cell_type": "code",
      "source": [
        "best_score = []\n",
        "counter = 0\n",
        "\n",
        "for i in dfs[len(get_list) - len(dfs):]:\n",
        "  # db저장시 발생했던 고유값 제거\n",
        "  i = i.drop(columns = '_id')\n",
        "\n",
        "  # 라벨링 함수 적용\n",
        "  i['textLevel'] = i['textLevel'].apply(labeling)\n",
        "\n",
        "  # 긍정문 추출\n",
        "  processing_df = i.query('textLevel == 1')\n",
        "\n",
        "  # 토픽 추출\n",
        "  try:\n",
        "    best_score.append(silhouette_point(vectorizer,processing_df['textContent']))\n",
        "  except:\n",
        "    best_score.append(f'오류 발생 : {counter}번재 csv')\n",
        "\n",
        "  counter += 1"
      ],
      "metadata": {
        "colab": {
          "base_uri": "https://localhost:8080/"
        },
        "id": "Dkk6ocaQIoCX",
        "outputId": "2568eb74-c0e1-4b2c-9380-b695bb5db8e8"
      },
      "execution_count": 28,
      "outputs": [
        {
          "output_type": "stream",
          "name": "stdout",
          "text": [
            "k : 2 score : 0.07510016896291648\n",
            "k : 3 score : 0.06355520576525753\n",
            "k : 4 score : 0.06068742879434723\n",
            "k : 5 score : 0.06214566328515095\n",
            "k : 6 score : 0.06420423397614705\n",
            "k : 7 score : 0.06173814207389985\n",
            "k : 8 score : 0.05815582387404672\n",
            "k : 9 score : 0.06379398951798472\n",
            "k : 10 score : 0.06419380507117499\n",
            "best n : 2 best score : 0.07510016896291648\n",
            "k : 2 score : 0.026352989375577635\n",
            "k : 3 score : 0.027617022700822395\n",
            "k : 4 score : 0.027566731108594554\n",
            "k : 5 score : 0.027575003458910913\n",
            "k : 6 score : 0.03335902939047305\n",
            "k : 7 score : 0.034975382995322664\n",
            "k : 8 score : 0.03578804610958842\n",
            "k : 9 score : 0.033016592152560434\n",
            "k : 10 score : 0.03131046369760348\n",
            "best n : 8 best score : 0.03578804610958842\n",
            "k : 2 score : 0.029748175154801357\n",
            "k : 3 score : 0.018521455945837775\n",
            "k : 4 score : 0.023630265697930482\n",
            "k : 5 score : 0.02344161761487247\n",
            "k : 6 score : 0.01914747790118592\n",
            "k : 7 score : 0.013953728300976725\n",
            "k : 8 score : 0.02143899470148169\n",
            "k : 9 score : 0.01653256563215397\n",
            "k : 10 score : 0.013497111953420593\n",
            "best n : 2 best score : 0.029748175154801357\n",
            "k : 2 score : 0.04705099587949518\n",
            "k : 3 score : 0.03885031917249236\n",
            "k : 4 score : 0.029785367166251575\n",
            "k : 5 score : 0.02514370200682139\n",
            "k : 6 score : 0.024504692015412274\n",
            "k : 7 score : 0.01287461897619755\n",
            "k : 8 score : 0.036051722392155226\n",
            "k : 9 score : 0.012338013518029546\n",
            "k : 10 score : 0.020930803219616965\n",
            "best n : 2 best score : 0.04705099587949518\n",
            "k : 2 score : 0.03870984831211949\n",
            "k : 3 score : 0.05546451384111883\n",
            "k : 4 score : 0.04350013045511724\n",
            "k : 5 score : 0.042999873022960954\n",
            "k : 6 score : 0.02404170404121494\n",
            "k : 7 score : 0.03901056955048473\n",
            "k : 8 score : 0.03278556514127005\n",
            "k : 9 score : 0.0236421427519184\n",
            "k : 10 score : 0.03895666164556641\n",
            "best n : 3 best score : 0.05546451384111883\n"
          ]
        }
      ]
    },
    {
      "cell_type": "code",
      "source": [
        "best_score"
      ],
      "metadata": {
        "colab": {
          "base_uri": "https://localhost:8080/"
        },
        "id": "7G2LO8cjIq0O",
        "outputId": "118da4ee-2c1e-4dc0-dd8d-82f8ad37f00e"
      },
      "execution_count": 29,
      "outputs": [
        {
          "output_type": "execute_result",
          "data": {
            "text/plain": [
              "[[2], [8], [2], [2], [3]]"
            ]
          },
          "metadata": {},
          "execution_count": 29
        }
      ]
    },
    {
      "cell_type": "code",
      "source": [
        "# 최종 최적화 군집 수\n",
        "get_list = [4,3,3,2,8,2,3,2,5,3,2,10,7,4,2,10,4,6,2,3,2,6,2,2,2,3,2,10,9,10,7,2,10,6,10,3,2,2,2,4,5,2,10,4,10,10,4,2,9,2,2,7,2,8,2,3]"
      ],
      "metadata": {
        "id": "zPvSKE0nJ6wD"
      },
      "execution_count": 30,
      "outputs": []
    },
    {
      "cell_type": "code",
      "source": [],
      "metadata": {
        "id": "2Jexq2HSdENh"
      },
      "execution_count": null,
      "outputs": []
    }
  ]
}