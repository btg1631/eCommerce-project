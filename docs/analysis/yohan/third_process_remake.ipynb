{
 "cells": [
  {
   "cell_type": "code",
   "execution_count": 1,
   "metadata": {},
   "outputs": [],
   "source": [
    "import pandas as pd"
   ]
  },
  {
   "cell_type": "code",
   "execution_count": 2,
   "metadata": {},
   "outputs": [],
   "source": [
    "# 모든 데이터 로드\n",
    "df_bibim1 = pd.read_csv(\"../../selenium/yohan/data/bibim/local.bibim1.csv\")\n",
    "df_bibim2 = pd.read_csv(\"../../selenium/yohan/data/bibim/local.bibim2.csv\")\n",
    "df_bibim3 = pd.read_csv(\"../../selenium/yohan/data/bibim/local.bibim3.csv\")\n",
    "df_bibim4 = pd.read_csv(\"../../selenium/yohan/data/bibim/local.bibim4.csv\")\n",
    "\n",
    "df_oil1 = pd.read_csv(\"../../selenium/yohan/data/chamoil/local.oil1.csv\")\n",
    "df_oil2 = pd.read_csv(\"../../selenium/yohan/data/chamoil/local.oil2.csv\")\n",
    "df_oil3 = pd.read_csv(\"../../selenium/yohan/data/chamoil/local.oil3.csv\")\n",
    "df_oil4 = pd.read_csv(\"../../selenium/yohan/data/chamoil/local.oil4.csv\")\n",
    "df_oil5 = pd.read_csv(\"../../selenium/yohan/data/chamoil/local.oil5.csv\")\n",
    "\n",
    "df_ham1 = pd.read_csv(\"../../selenium/yohan/data/ham/local.ham1.csv\")\n",
    "df_ham2 = pd.read_csv(\"../../selenium/yohan/data/ham/local.ham2.csv\")\n",
    "df_ham3 = pd.read_csv(\"../../selenium/yohan/data/ham/local.ham3.csv\")\n",
    "df_ham4 = pd.read_csv(\"../../selenium/yohan/data/ham/local.ham4.csv\")\n",
    "df_ham5 = pd.read_csv(\"../../selenium/yohan/data/ham/local.ham5.csv\")\n",
    "\n",
    "df_kyoja1 = pd.read_csv(\"../../selenium/yohan/data/kyoja/local.kyoja1.csv\")\n",
    "df_kyoja2 = pd.read_csv(\"../../selenium/yohan/data/kyoja/local.kyoja2.csv\")\n",
    "df_kyoja3 = pd.read_csv(\"../../selenium/yohan/data/kyoja/local.kyoja3.csv\")\n",
    "df_kyoja4 = pd.read_csv(\"../../selenium/yohan/data/kyoja/local.kyoja4.csv\")\n",
    "\n",
    "df_tomato1 = pd.read_csv(\"../../selenium/yohan/data/tomato_source/local.tomato1.csv\")\n",
    "df_tomato2 = pd.read_csv(\"../../selenium/yohan/data/tomato_source/local.tomato2.csv\")\n",
    "df_tomato3 = pd.read_csv(\"../../selenium/yohan/data/tomato_source/local.tomato3.csv\")\n",
    "\n",
    "df_canola1 = pd.read_csv(\"../../selenium/youjin/data/canola_oil/ssg.canola_oil1.csv\")\n",
    "df_canola2 = pd.read_csv(\"../../selenium/youjin/data/canola_oil/ssg.canola_oil2.csv\")\n",
    "df_canola3 = pd.read_csv(\"../../selenium/youjin/data/canola_oil/ssg.canola_oil3.csv\")\n",
    "df_canola4 = pd.read_csv(\"../../selenium/youjin/data/canola_oil/ssg.canola_oil4.csv\")\n",
    "\n",
    "df_kimchi1 = pd.read_csv(\"../../selenium/youjin/data/kimchi/ssg.kimchi1.csv\")\n",
    "df_kimchi2 = pd.read_csv(\"../../selenium/youjin/data/kimchi/ssg.kimchi2.csv\")\n",
    "df_kimchi3 = pd.read_csv(\"../../selenium/youjin/data/kimchi/ssg.kimchi3.csv\")\n",
    "df_kimchi4 = pd.read_csv(\"../../selenium/youjin/data/kimchi/ssg.kimchi4.csv\")\n",
    "\n",
    "df_mung_bean_sprouts1 = pd.read_csv(\"../../selenium/youjin/data/mung_bean_sprouts/ssg.mung_bean_sprouts1.csv\")\n",
    "df_mung_bean_sprouts2 = pd.read_csv(\"../../selenium/youjin/data/mung_bean_sprouts/ssg.mung_bean_sprouts2.csv\")\n",
    "df_mung_bean_sprouts3 = pd.read_csv(\"../../selenium/youjin/data/mung_bean_sprouts/ssg.mung_bean_sprouts3.csv\")\n",
    "df_mung_bean_sprouts4 = pd.read_csv(\"../../selenium/youjin/data/mung_bean_sprouts/ssg.mung_bean_sprouts4.csv\")\n",
    "\n",
    "df_pancake_powder1 = pd.read_csv(\"../../selenium/youjin/data/pancake_powder/ssg.pancake_powder1.csv\")\n",
    "df_pancake_powder2 = pd.read_csv(\"../../selenium/youjin/data/pancake_powder/ssg.pancake_powder2.csv\")\n",
    "df_pancake_powder3 = pd.read_csv(\"../../selenium/youjin/data/pancake_powder/ssg.pancake_powder3.csv\")\n",
    "df_pancake_powder4 = pd.read_csv(\"../../selenium/youjin/data/pancake_powder/ssg.pancake_powder4.csv\")\n",
    "\n",
    "df_rice1 = pd.read_csv(\"../../selenium/youjin/data/rice/ssg.rice1.csv\")\n",
    "df_rice2 = pd.read_csv(\"../../selenium/youjin/data/rice/ssg.rice2.csv\")\n",
    "df_rice3 = pd.read_csv(\"../../selenium/youjin/data/rice/ssg.rice3.csv\")\n",
    "df_rice4 = pd.read_csv(\"../../selenium/youjin/data/rice/ssg.rice4.csv\")\n",
    "df_rice5 = pd.read_csv(\"../../selenium/youjin/data/rice/ssg.rice5.csv\")\n",
    "\n",
    "df_bread1 = pd.read_csv(\"../../selenium/youngji/data/local.bread_1.csv\")\n",
    "df_bread2 = pd.read_csv(\"../../selenium/youngji/data/local.bread_2.csv\")\n",
    "df_bread3 = pd.read_csv(\"../../selenium/youngji/data/local.bread_3.csv\")\n",
    "df_bread4 = pd.read_csv(\"../../selenium/youngji/data/local.bread_4.csv\")\n",
    "\n",
    "df_cheese1 = pd.read_csv(\"../../selenium/youngji/data/local.cheese_1.csv\")\n",
    "df_cheese2 = pd.read_csv(\"../../selenium/youngji/data/local.cheese_2.csv\")\n",
    "df_cheese3 = pd.read_csv(\"../../selenium/youngji/data/local.cheese_3.csv\")\n",
    "\n",
    "df_milk1 = pd.read_csv(\"../../selenium/youngji/data/local.milk_1.csv\")\n",
    "df_milk2 = pd.read_csv(\"../../selenium/youngji/data/local.milk_2.csv\")\n",
    "df_milk3 = pd.read_csv(\"../../selenium/youngji/data/local.milk_3.csv\")\n",
    "\n",
    "df_water1 = pd.read_csv(\"../../selenium/youngji/data/local.water_1.csv\")\n",
    "df_water2 = pd.read_csv(\"../../selenium/youngji/data/local.water_2.csv\")\n",
    "df_water3 = pd.read_csv(\"../../selenium/youngji/data/local.water_3.csv\")\n",
    "\n",
    "df_yogurt1 = pd.read_csv(\"../../selenium/youngji/data/local.yogurt_1.csv\")\n",
    "df_yogurt2 = pd.read_csv(\"../../selenium/youngji/data/local.yogurt_2.csv\")\n",
    "df_yogurt3 = pd.read_csv(\"../../selenium/youngji/data/local.yogurt_3.csv\")\n",
    "\n",
    "dfs = [df_bibim1,df_bibim2,df_bibim3,df_bibim4,df_oil1,df_oil2,df_oil3,df_oil4,df_ham1,df_ham2,df_ham3,df_ham4,df_ham5,df_kyoja1,df_kyoja2,df_kyoja3,df_kyoja4,df_tomato1,df_tomato2,df_tomato3,df_canola1,df_canola2,df_canola3,df_canola4,df_kimchi1,df_kimchi2,df_kimchi3,df_kimchi4,df_mung_bean_sprouts1,df_mung_bean_sprouts2,df_mung_bean_sprouts3,df_mung_bean_sprouts4,df_pancake_powder1,df_pancake_powder2,df_pancake_powder3,df_pancake_powder4,df_rice1,df_rice2,df_rice3,df_rice4,df_rice5,df_bread1,df_bread2,df_bread3,df_bread4,df_cheese1,df_cheese2,df_cheese3,df_milk1,df_milk2,df_milk3,df_water1,df_water2,df_water3,df_yogurt1,df_yogurt2,df_yogurt3]"
   ]
  },
  {
   "cell_type": "markdown",
   "metadata": {},
   "source": [
    "## 데이터 전처리"
   ]
  },
  {
   "cell_type": "code",
   "execution_count": 3,
   "metadata": {},
   "outputs": [],
   "source": [
    "# object로 되어 있는 날짜 데이터를 datetime으로 변환\n",
    "for i in dfs:\n",
    "    i['textDate'] = pd.to_datetime(i['textDate'])"
   ]
  },
  {
   "cell_type": "code",
   "execution_count": 4,
   "metadata": {},
   "outputs": [],
   "source": [
    "# 통합 데이터 제작\n",
    "df_total = pd.DataFrame()\n",
    "df_total = pd.concat(dfs)"
   ]
  },
  {
   "cell_type": "code",
   "execution_count": 5,
   "metadata": {},
   "outputs": [
    {
     "data": {
      "text/html": [
       "<div>\n",
       "<style scoped>\n",
       "    .dataframe tbody tr th:only-of-type {\n",
       "        vertical-align: middle;\n",
       "    }\n",
       "\n",
       "    .dataframe tbody tr th {\n",
       "        vertical-align: top;\n",
       "    }\n",
       "\n",
       "    .dataframe thead th {\n",
       "        text-align: right;\n",
       "    }\n",
       "</style>\n",
       "<table border=\"1\" class=\"dataframe\">\n",
       "  <thead>\n",
       "    <tr style=\"text-align: right;\">\n",
       "      <th></th>\n",
       "      <th>_id</th>\n",
       "      <th>merchTitle</th>\n",
       "      <th>merchPrice</th>\n",
       "      <th>merchOld</th>\n",
       "      <th>merchEvent</th>\n",
       "      <th>textName</th>\n",
       "      <th>textDate</th>\n",
       "      <th>textLevel</th>\n",
       "      <th>textContent</th>\n",
       "    </tr>\n",
       "  </thead>\n",
       "  <tbody>\n",
       "    <tr>\n",
       "      <th>0</th>\n",
       "      <td>65f7b0ff73c6e006405497f1</td>\n",
       "      <td>팔도비빔면 130g*4개</td>\n",
       "      <td>3330</td>\n",
       "      <td>NaN</td>\n",
       "      <td>False</td>\n",
       "      <td>yj9*******</td>\n",
       "      <td>2023-09-16</td>\n",
       "      <td>5</td>\n",
       "      <td>좋은 상품 할인 받아서 좋은 가격에 구입했습니다 꼼꼼하게 포장되어서 빠르게 배송 받...</td>\n",
       "    </tr>\n",
       "    <tr>\n",
       "      <th>1</th>\n",
       "      <td>65f7b0ff73c6e006405497f2</td>\n",
       "      <td>팔도비빔면 130g*4개</td>\n",
       "      <td>3330</td>\n",
       "      <td>NaN</td>\n",
       "      <td>False</td>\n",
       "      <td>dnj*******</td>\n",
       "      <td>2024-03-11</td>\n",
       "      <td>5</td>\n",
       "      <td>이번에 딸기버전으로 뭔가 새로 나왔는지 기본이 아니라 딸기맛으로 왔네요! 근데 딸기...</td>\n",
       "    </tr>\n",
       "    <tr>\n",
       "      <th>2</th>\n",
       "      <td>65f7b0ff73c6e006405497f3</td>\n",
       "      <td>팔도비빔면 130g*4개</td>\n",
       "      <td>3330</td>\n",
       "      <td>NaN</td>\n",
       "      <td>False</td>\n",
       "      <td>bhb*******</td>\n",
       "      <td>2024-03-03</td>\n",
       "      <td>5</td>\n",
       "      <td>시즌한정 딸기버젼으로 받았어요. 음... 전 그냥 원래가 더 나은거 같아요. 개인적...</td>\n",
       "    </tr>\n",
       "    <tr>\n",
       "      <th>3</th>\n",
       "      <td>65f7b0ff73c6e006405497f4</td>\n",
       "      <td>팔도비빔면 130g*4개</td>\n",
       "      <td>3330</td>\n",
       "      <td>NaN</td>\n",
       "      <td>False</td>\n",
       "      <td>ehk*******</td>\n",
       "      <td>2024-02-03</td>\n",
       "      <td>5</td>\n",
       "      <td>비빔면은 팔도! 소고기에 비빔면 올려 맛있게 먹을 예정. 음-군침 돈다.</td>\n",
       "    </tr>\n",
       "    <tr>\n",
       "      <th>4</th>\n",
       "      <td>65f7b0ff73c6e006405497f5</td>\n",
       "      <td>팔도비빔면 130g*4개</td>\n",
       "      <td>3330</td>\n",
       "      <td>NaN</td>\n",
       "      <td>False</td>\n",
       "      <td>ryu*******</td>\n",
       "      <td>2024-01-14</td>\n",
       "      <td>5</td>\n",
       "      <td>자주 구매하고 있어요</td>\n",
       "    </tr>\n",
       "    <tr>\n",
       "      <th>...</th>\n",
       "      <td>...</td>\n",
       "      <td>...</td>\n",
       "      <td>...</td>\n",
       "      <td>...</td>\n",
       "      <td>...</td>\n",
       "      <td>...</td>\n",
       "      <td>...</td>\n",
       "      <td>...</td>\n",
       "      <td>...</td>\n",
       "    </tr>\n",
       "    <tr>\n",
       "      <th>850</th>\n",
       "      <td>65f815251d9dbce4e6c2af21</td>\n",
       "      <td>hy 떠먹는 윌 450g</td>\n",
       "      <td>2980</td>\n",
       "      <td>NaN</td>\n",
       "      <td>False</td>\n",
       "      <td>min*******</td>\n",
       "      <td>2023-05-16</td>\n",
       "      <td>2</td>\n",
       "      <td>유통기한도 짧고 개봉후 하루이틀 지나면 살짝 시다</td>\n",
       "    </tr>\n",
       "    <tr>\n",
       "      <th>851</th>\n",
       "      <td>65f815261d9dbce4e6c2af22</td>\n",
       "      <td>hy 떠먹는 윌 450g</td>\n",
       "      <td>2980</td>\n",
       "      <td>NaN</td>\n",
       "      <td>False</td>\n",
       "      <td>kjs*******</td>\n",
       "      <td>2023-05-13</td>\n",
       "      <td>2</td>\n",
       "      <td>너무 기대했나봐요ㅜ마시는 요구르트보다 별로</td>\n",
       "    </tr>\n",
       "    <tr>\n",
       "      <th>852</th>\n",
       "      <td>65f815261d9dbce4e6c2af23</td>\n",
       "      <td>hy 떠먹는 윌 450g</td>\n",
       "      <td>2980</td>\n",
       "      <td>NaN</td>\n",
       "      <td>False</td>\n",
       "      <td>ide*******</td>\n",
       "      <td>2023-07-06</td>\n",
       "      <td>1</td>\n",
       "      <td>3일남은 재고 보내줌 ㅡ.ㅡ</td>\n",
       "    </tr>\n",
       "    <tr>\n",
       "      <th>853</th>\n",
       "      <td>65f815261d9dbce4e6c2af24</td>\n",
       "      <td>hy 떠먹는 윌 450g</td>\n",
       "      <td>2980</td>\n",
       "      <td>NaN</td>\n",
       "      <td>False</td>\n",
       "      <td>mjy*******</td>\n",
       "      <td>2023-04-29</td>\n",
       "      <td>1</td>\n",
       "      <td>윌은 그냥 마세는게 100배낫습니다. 궁금해서 샀는데.먹기가.힘드네요. 윌맛에 걸쭉...</td>\n",
       "    </tr>\n",
       "    <tr>\n",
       "      <th>854</th>\n",
       "      <td>65f815261d9dbce4e6c2af25</td>\n",
       "      <td>hy 떠먹는 윌 450g</td>\n",
       "      <td>2980</td>\n",
       "      <td>NaN</td>\n",
       "      <td>False</td>\n",
       "      <td>iso*******</td>\n",
       "      <td>2023-05-12</td>\n",
       "      <td>1</td>\n",
       "      <td>간단하게 이용하기좋아요 간단하게 이용하기좋아요</td>\n",
       "    </tr>\n",
       "  </tbody>\n",
       "</table>\n",
       "<p>923982 rows × 9 columns</p>\n",
       "</div>"
      ],
      "text/plain": [
       "                          _id     merchTitle  merchPrice  merchOld  \\\n",
       "0    65f7b0ff73c6e006405497f1  팔도비빔면 130g*4개        3330       NaN   \n",
       "1    65f7b0ff73c6e006405497f2  팔도비빔면 130g*4개        3330       NaN   \n",
       "2    65f7b0ff73c6e006405497f3  팔도비빔면 130g*4개        3330       NaN   \n",
       "3    65f7b0ff73c6e006405497f4  팔도비빔면 130g*4개        3330       NaN   \n",
       "4    65f7b0ff73c6e006405497f5  팔도비빔면 130g*4개        3330       NaN   \n",
       "..                        ...            ...         ...       ...   \n",
       "850  65f815251d9dbce4e6c2af21  hy 떠먹는 윌 450g        2980       NaN   \n",
       "851  65f815261d9dbce4e6c2af22  hy 떠먹는 윌 450g        2980       NaN   \n",
       "852  65f815261d9dbce4e6c2af23  hy 떠먹는 윌 450g        2980       NaN   \n",
       "853  65f815261d9dbce4e6c2af24  hy 떠먹는 윌 450g        2980       NaN   \n",
       "854  65f815261d9dbce4e6c2af25  hy 떠먹는 윌 450g        2980       NaN   \n",
       "\n",
       "     merchEvent    textName   textDate  textLevel  \\\n",
       "0         False  yj9******* 2023-09-16          5   \n",
       "1         False  dnj******* 2024-03-11          5   \n",
       "2         False  bhb******* 2024-03-03          5   \n",
       "3         False  ehk******* 2024-02-03          5   \n",
       "4         False  ryu******* 2024-01-14          5   \n",
       "..          ...         ...        ...        ...   \n",
       "850       False  min******* 2023-05-16          2   \n",
       "851       False  kjs******* 2023-05-13          2   \n",
       "852       False  ide******* 2023-07-06          1   \n",
       "853       False  mjy******* 2023-04-29          1   \n",
       "854       False  iso******* 2023-05-12          1   \n",
       "\n",
       "                                           textContent  \n",
       "0    좋은 상품 할인 받아서 좋은 가격에 구입했습니다 꼼꼼하게 포장되어서 빠르게 배송 받...  \n",
       "1    이번에 딸기버전으로 뭔가 새로 나왔는지 기본이 아니라 딸기맛으로 왔네요! 근데 딸기...  \n",
       "2    시즌한정 딸기버젼으로 받았어요. 음... 전 그냥 원래가 더 나은거 같아요. 개인적...  \n",
       "3             비빔면은 팔도! 소고기에 비빔면 올려 맛있게 먹을 예정. 음-군침 돈다.  \n",
       "4                                          자주 구매하고 있어요  \n",
       "..                                                 ...  \n",
       "850                        유통기한도 짧고 개봉후 하루이틀 지나면 살짝 시다  \n",
       "851                            너무 기대했나봐요ㅜ마시는 요구르트보다 별로  \n",
       "852                                    3일남은 재고 보내줌 ㅡ.ㅡ  \n",
       "853  윌은 그냥 마세는게 100배낫습니다. 궁금해서 샀는데.먹기가.힘드네요. 윌맛에 걸쭉...  \n",
       "854                          간단하게 이용하기좋아요 간단하게 이용하기좋아요  \n",
       "\n",
       "[923982 rows x 9 columns]"
      ]
     },
     "execution_count": 5,
     "metadata": {},
     "output_type": "execute_result"
    }
   ],
   "source": [
    "df_total"
   ]
  },
  {
   "cell_type": "code",
   "execution_count": 6,
   "metadata": {},
   "outputs": [],
   "source": [
    "# 3점을 제외한 나머지 라벨링 작업 함수 제작\n",
    "def labeling(text):\n",
    "    if text in [4,5]:\n",
    "        text = 1\n",
    "    elif text in [1,2]:\n",
    "        text = 0\n",
    "    else:\n",
    "        pass\n",
    "    return text"
   ]
  },
  {
   "cell_type": "code",
   "execution_count": 7,
   "metadata": {},
   "outputs": [],
   "source": [
    "# 학습을 위한 fearure target 데이터 프레임 작성\n",
    "labeling_data = pd.DataFrame()\n",
    "labeling_data = df_total[[\"textLevel\",\"textContent\"]]\n",
    "labeling_data = labeling_data.reset_index()\n",
    "labeling_data = labeling_data.drop(columns='index')\n",
    "labeling_data['textLevel'] = labeling_data['textLevel'].apply(labeling)"
   ]
  },
  {
   "cell_type": "code",
   "execution_count": 8,
   "metadata": {},
   "outputs": [
    {
     "data": {
      "text/plain": [
       "textLevel\n",
       "1    904301\n",
       "3     14772\n",
       "0      4909\n",
       "Name: count, dtype: int64"
      ]
     },
     "execution_count": 8,
     "metadata": {},
     "output_type": "execute_result"
    }
   ],
   "source": [
    "labeling_data['textLevel'].value_counts()"
   ]
  },
  {
   "cell_type": "markdown",
   "metadata": {},
   "source": [
    "- 약 5천개의 부정문 (데이터 전처리 전) 획득\n",
    "- 7:3 비율로 긍정문을 랜덤 선별하여 처리해보자"
   ]
  },
  {
   "cell_type": "code",
   "execution_count": 9,
   "metadata": {},
   "outputs": [
    {
     "data": {
      "text/html": [
       "<div>\n",
       "<style scoped>\n",
       "    .dataframe tbody tr th:only-of-type {\n",
       "        vertical-align: middle;\n",
       "    }\n",
       "\n",
       "    .dataframe tbody tr th {\n",
       "        vertical-align: top;\n",
       "    }\n",
       "\n",
       "    .dataframe thead th {\n",
       "        text-align: right;\n",
       "    }\n",
       "</style>\n",
       "<table border=\"1\" class=\"dataframe\">\n",
       "  <thead>\n",
       "    <tr style=\"text-align: right;\">\n",
       "      <th></th>\n",
       "      <th>textLevel</th>\n",
       "      <th>textContent</th>\n",
       "    </tr>\n",
       "  </thead>\n",
       "  <tbody>\n",
       "    <tr>\n",
       "      <th>0</th>\n",
       "      <td>1</td>\n",
       "      <td>좋은 상품 할인 받아서 좋은 가격에 구입했습니다 꼼꼼하게 포장되어서 빠르게 배송 받...</td>\n",
       "    </tr>\n",
       "    <tr>\n",
       "      <th>1</th>\n",
       "      <td>1</td>\n",
       "      <td>이번에 딸기버전으로 뭔가 새로 나왔는지 기본이 아니라 딸기맛으로 왔네요! 근데 딸기...</td>\n",
       "    </tr>\n",
       "    <tr>\n",
       "      <th>2</th>\n",
       "      <td>1</td>\n",
       "      <td>시즌한정 딸기버젼으로 받았어요. 음... 전 그냥 원래가 더 나은거 같아요. 개인적...</td>\n",
       "    </tr>\n",
       "    <tr>\n",
       "      <th>3</th>\n",
       "      <td>1</td>\n",
       "      <td>비빔면은 팔도! 소고기에 비빔면 올려 맛있게 먹을 예정. 음-군침 돈다.</td>\n",
       "    </tr>\n",
       "    <tr>\n",
       "      <th>4</th>\n",
       "      <td>1</td>\n",
       "      <td>자주 구매하고 있어요</td>\n",
       "    </tr>\n",
       "    <tr>\n",
       "      <th>...</th>\n",
       "      <td>...</td>\n",
       "      <td>...</td>\n",
       "    </tr>\n",
       "    <tr>\n",
       "      <th>923977</th>\n",
       "      <td>0</td>\n",
       "      <td>유통기한도 짧고 개봉후 하루이틀 지나면 살짝 시다</td>\n",
       "    </tr>\n",
       "    <tr>\n",
       "      <th>923978</th>\n",
       "      <td>0</td>\n",
       "      <td>너무 기대했나봐요ㅜ마시는 요구르트보다 별로</td>\n",
       "    </tr>\n",
       "    <tr>\n",
       "      <th>923979</th>\n",
       "      <td>0</td>\n",
       "      <td>3일남은 재고 보내줌 ㅡ.ㅡ</td>\n",
       "    </tr>\n",
       "    <tr>\n",
       "      <th>923980</th>\n",
       "      <td>0</td>\n",
       "      <td>윌은 그냥 마세는게 100배낫습니다. 궁금해서 샀는데.먹기가.힘드네요. 윌맛에 걸쭉...</td>\n",
       "    </tr>\n",
       "    <tr>\n",
       "      <th>923981</th>\n",
       "      <td>0</td>\n",
       "      <td>간단하게 이용하기좋아요 간단하게 이용하기좋아요</td>\n",
       "    </tr>\n",
       "  </tbody>\n",
       "</table>\n",
       "<p>923982 rows × 2 columns</p>\n",
       "</div>"
      ],
      "text/plain": [
       "        textLevel                                        textContent\n",
       "0               1  좋은 상품 할인 받아서 좋은 가격에 구입했습니다 꼼꼼하게 포장되어서 빠르게 배송 받...\n",
       "1               1  이번에 딸기버전으로 뭔가 새로 나왔는지 기본이 아니라 딸기맛으로 왔네요! 근데 딸기...\n",
       "2               1  시즌한정 딸기버젼으로 받았어요. 음... 전 그냥 원래가 더 나은거 같아요. 개인적...\n",
       "3               1           비빔면은 팔도! 소고기에 비빔면 올려 맛있게 먹을 예정. 음-군침 돈다.\n",
       "4               1                                        자주 구매하고 있어요\n",
       "...           ...                                                ...\n",
       "923977          0                        유통기한도 짧고 개봉후 하루이틀 지나면 살짝 시다\n",
       "923978          0                            너무 기대했나봐요ㅜ마시는 요구르트보다 별로\n",
       "923979          0                                    3일남은 재고 보내줌 ㅡ.ㅡ\n",
       "923980          0  윌은 그냥 마세는게 100배낫습니다. 궁금해서 샀는데.먹기가.힘드네요. 윌맛에 걸쭉...\n",
       "923981          0                          간단하게 이용하기좋아요 간단하게 이용하기좋아요\n",
       "\n",
       "[923982 rows x 2 columns]"
      ]
     },
     "execution_count": 9,
     "metadata": {},
     "output_type": "execute_result"
    }
   ],
   "source": [
    "labeling_data"
   ]
  },
  {
   "cell_type": "code",
   "execution_count": 10,
   "metadata": {},
   "outputs": [
    {
     "data": {
      "text/plain": [
       "textLevel\n",
       "1    446016\n",
       "3      8878\n",
       "0      3149\n",
       "Name: count, dtype: int64"
      ]
     },
     "execution_count": 10,
     "metadata": {},
     "output_type": "execute_result"
    }
   ],
   "source": [
    "# 중복되어 있을 수 있는 내용을 제거\n",
    "labeling_data.drop_duplicates()['textLevel'].value_counts()"
   ]
  },
  {
   "cell_type": "markdown",
   "metadata": {},
   "source": [
    "- 중복 제거 작업 후 예상보다 상당히 많은 부분이 중복되어 있었음을 확인\n",
    "    + 긍정문의 약 50%가 중복으로 사라진 것을 보아 중복되고 무의미한 긍정 댓글이 매우 많았음을 확인\n",
    "    + 이 경우 댓글 알바나 이벤트 등으로 인해 허수였을 것으로 예상할 수 있음 (추후 분석 결과에 추가)"
   ]
  },
  {
   "cell_type": "code",
   "execution_count": 11,
   "metadata": {},
   "outputs": [],
   "source": [
    "labeling_data = labeling_data.drop_duplicates()"
   ]
  },
  {
   "cell_type": "code",
   "execution_count": 12,
   "metadata": {},
   "outputs": [
    {
     "data": {
      "text/plain": [
       "textLevel      0\n",
       "textContent    2\n",
       "dtype: int64"
      ]
     },
     "execution_count": 12,
     "metadata": {},
     "output_type": "execute_result"
    }
   ],
   "source": [
    "# Null행 확인\n",
    "labeling_data.isnull().sum()"
   ]
  },
  {
   "cell_type": "code",
   "execution_count": 13,
   "metadata": {},
   "outputs": [],
   "source": [
    "# Null행 제거\n",
    "labeling_data = labeling_data.dropna()"
   ]
  },
  {
   "cell_type": "code",
   "execution_count": 14,
   "metadata": {},
   "outputs": [],
   "source": [
    "import re\n",
    "\n",
    "# 한글과 공백을 제외하고 모두 제거\n",
    "labeling_data['textContent'] = labeling_data['textContent'].apply(lambda x: re.sub(r\"[^ㄱ-ㅎㅏ-ㅣ가-힣 ]\", \"\", x))"
   ]
  },
  {
   "cell_type": "code",
   "execution_count": 15,
   "metadata": {},
   "outputs": [
    {
     "name": "stderr",
     "output_type": "stream",
     "text": [
      "C:\\Users\\서울디지털인재개발원\\AppData\\Local\\Temp\\ipykernel_17072\\1841035627.py:5: FutureWarning: A value is trying to be set on a copy of a DataFrame or Series through chained assignment using an inplace method.\n",
      "The behavior will change in pandas 3.0. This inplace method will never work because the intermediate object on which we are setting values always behaves as a copy.\n",
      "\n",
      "For example, when doing 'df[col].method(value, inplace=True)', try using 'df.method({col: value}, inplace=True)' or df[col] = df[col].method(value) instead, to perform the operation inplace on the original object.\n",
      "\n",
      "\n",
      "  labeling_data['textContent'].replace('', np.nan, inplace=True)\n"
     ]
    }
   ],
   "source": [
    "import numpy as np\n",
    "\n",
    "# 스페이스로 이루어진 행을 Null값으로 변경\n",
    "labeling_data['textContent'] = labeling_data['textContent'].apply(lambda x: re.sub(r'^ +', \"\", x)) \n",
    "labeling_data['textContent'].replace('', np.nan, inplace=True)"
   ]
  },
  {
   "cell_type": "code",
   "execution_count": 16,
   "metadata": {},
   "outputs": [
    {
     "data": {
      "text/plain": [
       "textLevel         0\n",
       "textContent    1479\n",
       "dtype: int64"
      ]
     },
     "execution_count": 16,
     "metadata": {},
     "output_type": "execute_result"
    }
   ],
   "source": [
    "labeling_data.isnull().sum()"
   ]
  },
  {
   "cell_type": "code",
   "execution_count": 17,
   "metadata": {},
   "outputs": [],
   "source": [
    "# Null행 제거\n",
    "labeling_data = labeling_data.dropna()"
   ]
  },
  {
   "cell_type": "markdown",
   "metadata": {},
   "source": [
    "## Tokenizing"
   ]
  },
  {
   "cell_type": "code",
   "execution_count": 18,
   "metadata": {},
   "outputs": [],
   "source": [
    "import pickle\n",
    "import matplotlib.pyplot as plt\n",
    "import urllib.request\n",
    "from mecab import MeCab\n",
    "from tqdm import tqdm\n",
    "from sklearn.model_selection import train_test_split\n",
    "from collections import Counter"
   ]
  },
  {
   "cell_type": "code",
   "execution_count": 19,
   "metadata": {},
   "outputs": [],
   "source": [
    "mecab = MeCab()"
   ]
  },
  {
   "cell_type": "code",
   "execution_count": 20,
   "metadata": {},
   "outputs": [],
   "source": [
    "# 기본적인 불용어와 상표명 등의 독립단어 설정\n",
    "stopword1 = ['도', '는', '다', '의', '가', '이', '은', '한', '에', '하', '고', '을', '를', '인', '듯', '과', '와', '네', '들', '듯', '지', '임', '게','의','가','들','는','좀','잘','걍','과','도','를','으로','자','에','와','한','하다']\n",
    "stopword2 = ['팔도','팔도비빔면','비빔면','괄도','네넴띤','괄도네넴띤','농심','배홍동','배홍동비빔면','오뚜기','진비빔면','삼양','찰비빔면','비비고','교자','왕교자','노브랜드','교자만두','만두','왕교자만두','피코크','담백한왕교자','토마토','청정원','파스타소스','폰타나','샘표','뽀모도로','CJ','cj','스팸','클래식','덴마크튤립햄','튤립햄','동원','리챔','하림','닭가슴살햄','챔','더본코리아','빽햄','백종원','고소한참기름','참기름','경천','경천식품','시골참기름','들기름','최순희','백설','통참깨참기름','통참깨','임금님','임금님표','이천쌀','한눈에 반한 쌀','경기미','농협','농협양곡','당진해나루쌀','삼광','의성','의성농협','바른고을','의성진쌀','김치','별미총각김치','총각김치','종가집','종가','오래오래맛있는총각김치','조선호텔특제육수','조선호텔','부침가루','부침','곰표','통감자','자연주의','숙주나물','친환경','국산숙주','숙주','무농약','통통숙주','카놀라유','카놀라오일','카놀라','Coosur','coosur','쿡투게더','부드러운우유식빵','식빵','우유식빵','삼립','롯데','롯데웰푸드','기린','우유','더 메나쥬리','메나쥬리','온가족우유식빵','삼다수','에비앙','백산수','플레인','요거트','덴마크','에치와이','hy','윌','상하','상하치즈','체다','치즈','서울우유','서울','슬라이스','남양','드빈치','체다치즈','갓밀크','굿모닝','굿밀크','헬로우','앙팡']\n",
    "stopword = stopword1 + stopword2"
   ]
  },
  {
   "cell_type": "code",
   "execution_count": 21,
   "metadata": {},
   "outputs": [],
   "source": [
    "train_data = labeling_data.query('textLevel\t!= 3')"
   ]
  },
  {
   "cell_type": "code",
   "execution_count": 22,
   "metadata": {},
   "outputs": [
    {
     "data": {
      "text/plain": [
       "textLevel\n",
       "1    444609\n",
       "0      3138\n",
       "Name: count, dtype: int64"
      ]
     },
     "execution_count": 22,
     "metadata": {},
     "output_type": "execute_result"
    }
   ],
   "source": [
    "train_data['textLevel'].value_counts()"
   ]
  },
  {
   "cell_type": "code",
   "execution_count": 23,
   "metadata": {},
   "outputs": [
    {
     "name": "stderr",
     "output_type": "stream",
     "text": [
      "100%|██████████| 447747/447747 [00:48<00:00, 9184.61it/s] \n"
     ]
    }
   ],
   "source": [
    "feature_train = []\n",
    "for i in tqdm(train_data['textContent']):\n",
    "    tokenized = mecab.morphs(i) # mecab을 통한 토큰화\n",
    "    removed = [j for j in tokenized if not j in stopword] # 불용어 제거\n",
    "    feature_train.append(removed)"
   ]
  },
  {
   "cell_type": "code",
   "execution_count": 24,
   "metadata": {},
   "outputs": [
    {
     "data": {
      "text/plain": [
       "(447747, 456562)"
      ]
     },
     "execution_count": 24,
     "metadata": {},
     "output_type": "execute_result"
    }
   ],
   "source": [
    "len(feature_train),len(labeling_data['textLevel'])"
   ]
  },
  {
   "cell_type": "markdown",
   "metadata": {},
   "source": [
    "## 단어 집합 제작"
   ]
  },
  {
   "cell_type": "code",
   "execution_count": 25,
   "metadata": {},
   "outputs": [],
   "source": [
    "word_list = []\n",
    "for i in feature_train:\n",
    "    for j in i:\n",
    "      word_list.append(j)\n",
    "\n",
    "word_counts = Counter(word_list)"
   ]
  },
  {
   "cell_type": "code",
   "execution_count": 26,
   "metadata": {},
   "outputs": [
    {
     "name": "stdout",
     "output_type": "stream",
     "text": [
      "단어 집합(vocabulary)의 크기 : 26273\n",
      "등장 빈도가 2번 이하인 희귀 단어의 수: 15400\n",
      "단어 집합에서 희귀 단어의 비율: 58.61530849160735\n",
      "전체 등장 빈도에서 희귀 단어 등장 빈도 비율: 0.5496740253417093\n"
     ]
    }
   ],
   "source": [
    "threshold = 3\n",
    "total_cnt = len(word_counts) # 단어의 수\n",
    "rare_cnt = 0 # 등장 빈도수가 threshold보다 작은 단어의 개수를 카운트\n",
    "total_freq = 0 # 훈련 데이터의 전체 단어 빈도수 총 합\n",
    "rare_freq = 0 # 등장 빈도수가 threshold보다 작은 단어의 등장 빈도수의 총 합\n",
    "\n",
    "# 단어와 빈도수의 쌍(pair)을 key와 value로 받는다.\n",
    "for key, value in word_counts.items():\n",
    "    total_freq = total_freq + value\n",
    "\n",
    "    # 단어의 등장 빈도수가 threshold보다 작으면\n",
    "    if(value < threshold):\n",
    "        rare_cnt = rare_cnt + 1\n",
    "        rare_freq = rare_freq + value\n",
    "\n",
    "print('단어 집합(vocabulary)의 크기 :',total_cnt)\n",
    "print('등장 빈도가 %s번 이하인 희귀 단어의 수: %s'%(threshold - 1, rare_cnt))\n",
    "print(\"단어 집합에서 희귀 단어의 비율:\", (rare_cnt / total_cnt)*100)\n",
    "print(\"전체 등장 빈도에서 희귀 단어 등장 빈도 비율:\", (rare_freq / total_freq)*100)"
   ]
  },
  {
   "cell_type": "code",
   "execution_count": 27,
   "metadata": {},
   "outputs": [],
   "source": [
    "vocab = sorted(word_counts, key=word_counts.get, reverse=True)"
   ]
  },
  {
   "cell_type": "code",
   "execution_count": 28,
   "metadata": {},
   "outputs": [
    {
     "name": "stdout",
     "output_type": "stream",
     "text": [
      "단어 집합의 크기 : 10873\n"
     ]
    }
   ],
   "source": [
    "# 전체 단어 개수 중 빈도수 2이하인 단어는 제거.\n",
    "vocab_size = total_cnt - rare_cnt\n",
    "vocab = vocab[:vocab_size]\n",
    "print('단어 집합의 크기 :', len(vocab))"
   ]
  },
  {
   "cell_type": "code",
   "execution_count": 29,
   "metadata": {},
   "outputs": [],
   "source": [
    "word_to_index = {}\n",
    "word_to_index['<PAD>'] = 0\n",
    "word_to_index['<UNK>'] = 1"
   ]
  },
  {
   "cell_type": "code",
   "execution_count": 30,
   "metadata": {},
   "outputs": [],
   "source": [
    "for index, word in enumerate(vocab) :\n",
    "  word_to_index[word] = index + 2"
   ]
  },
  {
   "cell_type": "code",
   "execution_count": 31,
   "metadata": {},
   "outputs": [],
   "source": [
    "vocab_size = len(word_to_index)"
   ]
  },
  {
   "cell_type": "code",
   "execution_count": 32,
   "metadata": {},
   "outputs": [],
   "source": [
    "index_to_word = {}\n",
    "for key, value in word_to_index.items():\n",
    "    index_to_word[value] = key"
   ]
  },
  {
   "cell_type": "markdown",
   "metadata": {},
   "source": [
    "## Vectorization\n",
    "- 정수 인코딩 (카운터 벡터라이징)"
   ]
  },
  {
   "cell_type": "code",
   "execution_count": 33,
   "metadata": {},
   "outputs": [],
   "source": [
    "def texts_to_sequences(tokenized_feature_data, word_to_index):\n",
    "  encoded_feature_data = []\n",
    "  for sent in tokenized_feature_data:\n",
    "    index_sequences = []\n",
    "    for word in sent:\n",
    "      try:\n",
    "          index_sequences.append(word_to_index[word])\n",
    "      except KeyError:\n",
    "          index_sequences.append(word_to_index['<UNK>'])\n",
    "    encoded_feature_data.append(index_sequences)\n",
    "  return encoded_feature_data"
   ]
  },
  {
   "cell_type": "code",
   "execution_count": 34,
   "metadata": {},
   "outputs": [],
   "source": [
    "encoded_feature_train = texts_to_sequences(feature_train, word_to_index)"
   ]
  },
  {
   "cell_type": "markdown",
   "metadata": {},
   "source": [
    "## 패딩"
   ]
  },
  {
   "cell_type": "code",
   "execution_count": 35,
   "metadata": {},
   "outputs": [
    {
     "name": "stdout",
     "output_type": "stream",
     "text": [
      "리뷰의 최대 길이 : 766\n",
      "리뷰의 평균 길이 : 7.522909142886496\n"
     ]
    },
    {
     "data": {
      "image/png": "[encoded data removed]",
      "text/plain": [
       "<Figure size 640x480 with 1 Axes>"
      ]
     },
     "metadata": {},
     "output_type": "display_data"
    }
   ],
   "source": [
    "print('리뷰의 최대 길이 :',max(len(review) for review in encoded_feature_train))\n",
    "print('리뷰의 평균 길이 :',sum(map(len, encoded_feature_train))/len(encoded_feature_train))\n",
    "plt.hist([len(review) for review in encoded_feature_train], bins=50)\n",
    "plt.xlabel('length of samples')\n",
    "plt.ylabel('number of samples')\n",
    "plt.show()"
   ]
  },
  {
   "cell_type": "code",
   "execution_count": 36,
   "metadata": {},
   "outputs": [],
   "source": [
    "def below_threshold_len(max_len, nested_list):\n",
    "  count = 0\n",
    "  for sentence in nested_list:\n",
    "    if(len(sentence) <= max_len):\n",
    "        count = count + 1\n",
    "  print('전체 샘플 중 길이가 %s 이하인 샘플의 비율: %s'%(max_len, (count / len(nested_list))*100))"
   ]
  },
  {
   "cell_type": "code",
   "execution_count": 37,
   "metadata": {},
   "outputs": [
    {
     "name": "stdout",
     "output_type": "stream",
     "text": [
      "전체 샘플 중 길이가 30 이하인 샘플의 비율: 99.13969272825949\n"
     ]
    }
   ],
   "source": [
    "max_len = 30\n",
    "below_threshold_len(max_len, feature_train)"
   ]
  },
  {
   "cell_type": "code",
   "execution_count": 38,
   "metadata": {},
   "outputs": [
    {
     "data": {
      "text/plain": [
       "((447747, 766), (447747,))"
      ]
     },
     "execution_count": 38,
     "metadata": {},
     "output_type": "execute_result"
    }
   ],
   "source": [
    "encoded_feature_train = pd.DataFrame(encoded_feature_train)\n",
    "encoded_feature_train.shape,train_data['textLevel'].shape"
   ]
  },
  {
   "cell_type": "code",
   "execution_count": 39,
   "metadata": {},
   "outputs": [],
   "source": [
    "# 0으로 패딩\n",
    "encoded_feature_train = encoded_feature_train.fillna(0)\n",
    "# 단어 길이 15개 까지만 가져오기\n",
    "encoded_feature_train = encoded_feature_train.iloc[:,:30]"
   ]
  },
  {
   "cell_type": "markdown",
   "metadata": {},
   "source": [
    "## 학습 데이터 / 검증 데이터 / 테스트 데이터 분리"
   ]
  },
  {
   "cell_type": "markdown",
   "metadata": {},
   "source": [
    "### 데이터 비율 맞추기\n",
    "    - 현재 데이터의 비율이 매우 차이가 심함\n",
    "    - 비정형 데이터(자연어 처리)이기 때문에 가중치 조절이나 Oversampling은 하지 않는 것이 바람직\n",
    "    - UnderSampling진행"
   ]
  },
  {
   "cell_type": "code",
   "execution_count": 40,
   "metadata": {},
   "outputs": [
    {
     "data": {
      "text/plain": [
       "((7620, 30), (7620,))"
      ]
     },
     "execution_count": 40,
     "metadata": {},
     "output_type": "execute_result"
    }
   ],
   "source": [
    "from imblearn.under_sampling import NearMiss\n",
    "underSampling = NearMiss(sampling_strategy=0.7)\n",
    "feature_undersample, target_undersample = underSampling.fit_resample(encoded_feature_train,train_data['textLevel'])\n",
    "feature_undersample.shape, target_undersample.shape"
   ]
  },
  {
   "cell_type": "code",
   "execution_count": 41,
   "metadata": {},
   "outputs": [
    {
     "data": {
      "text/plain": [
       "textLevel\n",
       "1    4482\n",
       "0    3138\n",
       "Name: count, dtype: int64"
      ]
     },
     "execution_count": 41,
     "metadata": {},
     "output_type": "execute_result"
    }
   ],
   "source": [
    "target_undersample.value_counts()"
   ]
  },
  {
   "cell_type": "markdown",
   "metadata": {},
   "source": [
    "- 긍정문 약 4천개\n",
    "- 부정문 약 3천개"
   ]
  },
  {
   "cell_type": "markdown",
   "metadata": {},
   "source": [
    "### 데이터 스플릿"
   ]
  },
  {
   "cell_type": "code",
   "execution_count": 42,
   "metadata": {},
   "outputs": [],
   "source": [
    "feature_train, feature_test, target_train, target_test = train_test_split(feature_undersample,target_undersample, test_size=0.2, random_state=42, stratify=target_undersample)"
   ]
  },
  {
   "cell_type": "code",
   "execution_count": 43,
   "metadata": {},
   "outputs": [
    {
     "data": {
      "text/plain": [
       "((6096, 30), (6096,))"
      ]
     },
     "execution_count": 43,
     "metadata": {},
     "output_type": "execute_result"
    }
   ],
   "source": [
    "feature_train.shape,target_train.shape"
   ]
  },
  {
   "cell_type": "code",
   "execution_count": 44,
   "metadata": {},
   "outputs": [
    {
     "data": {
      "text/plain": [
       "((4876, 30), (1220, 30), (1524, 30), (4876,), (1220,), (1524,))"
      ]
     },
     "execution_count": 44,
     "metadata": {},
     "output_type": "execute_result"
    }
   ],
   "source": [
    "feature_train, feature_valid, target_train, target_valid = train_test_split(feature_train,target_train,test_size=0.2, random_state=42, stratify=target_train)\n",
    "feature_train.shape,feature_valid.shape,feature_test.shape,target_train.shape,target_valid.shape,target_test.shape"
   ]
  },
  {
   "cell_type": "markdown",
   "metadata": {},
   "source": [
    "- 학습 데이터 약 5천개\n",
    "- 검증 데이터 약 천개\n",
    "- 테스트 데이터 약 천5백개"
   ]
  },
  {
   "cell_type": "code",
   "execution_count": 45,
   "metadata": {},
   "outputs": [
    {
     "name": "stdout",
     "output_type": "stream",
     "text": [
      "--------학습 데이터의 비율-----------\n",
      "부정 리뷰 = 41.181%\n",
      "긍정 리뷰 = 58.819%\n",
      "--------검증 데이터의 비율-----------\n",
      "부정 리뷰 = 41.148%\n",
      "긍정 리뷰 = 58.852%\n",
      "--------테스트 데이터의 비율-----------\n",
      "부정 리뷰 = 41.207%\n",
      "긍정 리뷰 = 58.793%\n"
     ]
    }
   ],
   "source": [
    "print('--------학습 데이터의 비율-----------')\n",
    "print(f'부정 리뷰 = {round(np.sum(target_train==0)/len(target_train) * 100,3)}%')\n",
    "print(f'긍정 리뷰 = {round(np.count_nonzero(target_train)/len(target_train) * 100,3)}%')\n",
    "print('--------검증 데이터의 비율-----------')\n",
    "print(f'부정 리뷰 = {round(np.sum(target_valid==0)/len(target_valid) * 100,3)}%')\n",
    "print(f'긍정 리뷰 = {round(np.count_nonzero(target_valid)/len(target_valid) * 100,3)}%')\n",
    "print('--------테스트 데이터의 비율-----------')\n",
    "print(f'부정 리뷰 = {round(np.sum(target_test==0)/len(target_test) * 100,3)}%')\n",
    "print(f'긍정 리뷰 = {round(np.count_nonzero(target_test)/len(target_test) * 100,3)}%')"
   ]
  },
  {
   "cell_type": "markdown",
   "metadata": {},
   "source": [
    "## 모델 학습\n",
    "- LSTM"
   ]
  },
  {
   "cell_type": "code",
   "execution_count": 46,
   "metadata": {},
   "outputs": [],
   "source": [
    "import torch\n",
    "import torch.nn as nn\n",
    "import torch.nn.functional as F"
   ]
  },
  {
   "cell_type": "code",
   "execution_count": 47,
   "metadata": {},
   "outputs": [
    {
     "name": "stdout",
     "output_type": "stream",
     "text": [
      "cpu와 cuda 중 다음 기기로 학습함: cpu\n"
     ]
    }
   ],
   "source": [
    "USE_CUDA = torch.cuda.is_available()\n",
    "device = torch.device(\"cuda\" if USE_CUDA else \"cpu\")\n",
    "print(\"cpu와 cuda 중 다음 기기로 학습함:\", device)"
   ]
  },
  {
   "cell_type": "code",
   "execution_count": 48,
   "metadata": {},
   "outputs": [
    {
     "name": "stdout",
     "output_type": "stream",
     "text": [
      "tensor([1, 1, 1, 0, 0])\n"
     ]
    }
   ],
   "source": [
    "train_label_tensor = torch.tensor(np.array(target_train))\n",
    "valid_label_tensor = torch.tensor(np.array(target_valid))\n",
    "test_label_tensor = torch.tensor(np.array(target_test))\n",
    "print(train_label_tensor[:5])"
   ]
  },
  {
   "cell_type": "code",
   "execution_count": 49,
   "metadata": {},
   "outputs": [],
   "source": [
    "class TextClassifier(nn.Module):\n",
    "    def __init__(self, vocab_size, embedding_dim, hidden_dim, output_dim):\n",
    "        super(TextClassifier, self).__init__()\n",
    "        self.embedding = nn.Embedding(vocab_size, embedding_dim)\n",
    "        self.lstm = nn.LSTM(embedding_dim, hidden_dim, batch_first=True)\n",
    "        self.fc = nn.Linear(hidden_dim, output_dim)\n",
    "\n",
    "    def forward(self, x):\n",
    "        # x: (batch_size, seq_length)\n",
    "        embedded = self.embedding(x)  # (batch_size, seq_length, embedding_dim)\n",
    "\n",
    "        # LSTM은 (hidden state, cell state)의 튜플을 반환합니다\n",
    "        lstm_out, (hidden, cell) = self.lstm(embedded)  # lstm_out: (batch_size, seq_length, hidden_dim), hidden: (1, batch_size, hidden_dim)\n",
    "\n",
    "        last_hidden = hidden.squeeze(0)  # (batch_size, hidden_dim)\n",
    "        logits = self.fc(last_hidden)  # (batch_size, output_dim)\n",
    "        return logits"
   ]
  },
  {
   "cell_type": "code",
   "execution_count": 50,
   "metadata": {},
   "outputs": [],
   "source": [
    "encoded_train = torch.tensor(feature_train.values, dtype=torch.int64)\n",
    "train_dataset = torch.utils.data.TensorDataset(encoded_train, train_label_tensor)\n",
    "train_dataloader = torch.utils.data.DataLoader(train_dataset, shuffle=True, batch_size=32)\n",
    "\n",
    "encoded_test = torch.tensor(feature_test.values, dtype=torch.int64)\n",
    "test_dataset = torch.utils.data.TensorDataset(encoded_test, test_label_tensor)\n",
    "test_dataloader = torch.utils.data.DataLoader(test_dataset, shuffle=True, batch_size=1)\n",
    "\n",
    "encoded_valid = torch.tensor(feature_valid.values, dtype=torch.int64)\n",
    "valid_dataset = torch.utils.data.TensorDataset(encoded_valid, valid_label_tensor)\n",
    "valid_dataloader = torch.utils.data.DataLoader(valid_dataset, shuffle=True, batch_size=1)"
   ]
  },
  {
   "cell_type": "code",
   "execution_count": 51,
   "metadata": {},
   "outputs": [
    {
     "data": {
      "text/plain": [
       "tensor([[   2,    4,    2,  ...,    0,    0,    0],\n",
       "        [  46,   10,   46,  ...,    0,    0,    0],\n",
       "        [ 132,   15,    0,  ...,    0,    0,    0],\n",
       "        ...,\n",
       "        [ 141,  428, 2021,  ...,    0,    0,    0],\n",
       "        [ 659,  653,   59,  ..., 1193, 1355,   25],\n",
       "        [8040,   43, 1019,  ...,    0,    0,    0]])"
      ]
     },
     "execution_count": 51,
     "metadata": {},
     "output_type": "execute_result"
    }
   ],
   "source": [
    "encoded_train"
   ]
  },
  {
   "cell_type": "code",
   "execution_count": 52,
   "metadata": {},
   "outputs": [
    {
     "name": "stdout",
     "output_type": "stream",
     "text": [
      "총 배치의 수 : 153\n"
     ]
    }
   ],
   "source": [
    "total_batch = len(train_dataloader)\n",
    "print('총 배치의 수 : {}'.format(total_batch))"
   ]
  },
  {
   "cell_type": "code",
   "execution_count": 53,
   "metadata": {},
   "outputs": [
    {
     "data": {
      "text/plain": [
       "TextClassifier(\n",
       "  (embedding): Embedding(10875, 100)\n",
       "  (lstm): LSTM(100, 128, batch_first=True)\n",
       "  (fc): Linear(in_features=128, out_features=2, bias=True)\n",
       ")"
      ]
     },
     "execution_count": 53,
     "metadata": {},
     "output_type": "execute_result"
    }
   ],
   "source": [
    "embedding_dim = 100\n",
    "hidden_dim = 128\n",
    "output_dim = 2\n",
    "learning_rate = 0.001\n",
    "num_epochs = 10\n",
    "\n",
    "model = TextClassifier(vocab_size, embedding_dim, hidden_dim, output_dim)\n",
    "model.to(device)"
   ]
  },
  {
   "cell_type": "code",
   "execution_count": 54,
   "metadata": {},
   "outputs": [],
   "source": [
    "# 크로스엔트로피 손실함수 사용\n",
    "criterion = nn.CrossEntropyLoss()\n",
    "optimizer = torch.optim.Adam(model.parameters(), lr=learning_rate)"
   ]
  },
  {
   "cell_type": "markdown",
   "metadata": {},
   "source": [
    "### 평가  코드"
   ]
  },
  {
   "cell_type": "code",
   "execution_count": 55,
   "metadata": {},
   "outputs": [],
   "source": [
    "def calculate_accuracy(logits, labels):\n",
    "    predicted = torch.argmax(logits, dim=1)\n",
    "    correct = (predicted == labels).sum().item()\n",
    "    total = labels.size(0)\n",
    "    accuracy = correct / total\n",
    "    return accuracy"
   ]
  },
  {
   "cell_type": "code",
   "execution_count": 56,
   "metadata": {},
   "outputs": [],
   "source": [
    "def evaluate(model, valid_dataloader, criterion, device):\n",
    "    val_loss = 0\n",
    "    val_correct = 0\n",
    "    val_total = 0\n",
    "\n",
    "    model.eval()\n",
    "    with torch.no_grad():\n",
    "        # 데이터로더로부터 배치 크기만큼의 데이터를 연속으로 로드\n",
    "        for batch_X, batch_y in valid_dataloader:\n",
    "            batch_X, batch_y = batch_X.to(device), batch_y.to(device)\n",
    "\n",
    "            # 모델의 예측값\n",
    "            logits = model(batch_X)\n",
    "\n",
    "            # 손실을 계산\n",
    "            loss = criterion(logits, batch_y)\n",
    "\n",
    "            # 정확도와 손실을 계산함\n",
    "            val_loss += loss.item()\n",
    "            val_correct += calculate_accuracy(logits, batch_y) * batch_y.size(0)\n",
    "            val_total += batch_y.size(0)\n",
    "\n",
    "    val_accuracy = val_correct / val_total\n",
    "    val_loss /= len(valid_dataloader)\n",
    "\n",
    "    return val_loss, val_accuracy"
   ]
  },
  {
   "cell_type": "markdown",
   "metadata": {},
   "source": [
    "## 학습 진행"
   ]
  },
  {
   "cell_type": "code",
   "execution_count": 57,
   "metadata": {},
   "outputs": [
    {
     "name": "stdout",
     "output_type": "stream",
     "text": [
      "Epoch 1/10:\n",
      "Train Loss: 0.3812, Train Accuracy: 0.8374\n",
      "Validation Loss: 0.1657, Validation Accuracy: 0.9590\n",
      "Validation loss improved from inf to 0.1657. 체크포인트를 저장합니다.\n",
      "Epoch 2/10:\n",
      "Train Loss: 0.1683, Train Accuracy: 0.9573\n",
      "Validation Loss: 0.1861, Validation Accuracy: 0.9467\n",
      "Epoch 3/10:\n",
      "Train Loss: 0.1140, Train Accuracy: 0.9643\n",
      "Validation Loss: 0.0872, Validation Accuracy: 0.9680\n",
      "Validation loss improved from 0.1657 to 0.0872. 체크포인트를 저장합니다.\n",
      "Epoch 4/10:\n",
      "Train Loss: 0.0899, Train Accuracy: 0.9721\n",
      "Validation Loss: 0.0626, Validation Accuracy: 0.9852\n",
      "Validation loss improved from 0.0872 to 0.0626. 체크포인트를 저장합니다.\n",
      "Epoch 5/10:\n",
      "Train Loss: 0.0674, Train Accuracy: 0.9830\n",
      "Validation Loss: 0.0680, Validation Accuracy: 0.9803\n",
      "Epoch 6/10:\n",
      "Train Loss: 0.0607, Train Accuracy: 0.9869\n",
      "Validation Loss: 0.0598, Validation Accuracy: 0.9869\n",
      "Validation loss improved from 0.0626 to 0.0598. 체크포인트를 저장합니다.\n",
      "Epoch 7/10:\n",
      "Train Loss: 0.0585, Train Accuracy: 0.9836\n",
      "Validation Loss: 0.0624, Validation Accuracy: 0.9795\n",
      "Epoch 8/10:\n",
      "Train Loss: 0.0489, Train Accuracy: 0.9883\n",
      "Validation Loss: 0.0632, Validation Accuracy: 0.9836\n",
      "Epoch 9/10:\n",
      "Train Loss: 0.0442, Train Accuracy: 0.9900\n",
      "Validation Loss: 0.0550, Validation Accuracy: 0.9877\n",
      "Validation loss improved from 0.0598 to 0.0550. 체크포인트를 저장합니다.\n",
      "Epoch 10/10:\n",
      "Train Loss: 0.0405, Train Accuracy: 0.9914\n",
      "Validation Loss: 0.0570, Validation Accuracy: 0.9877\n"
     ]
    }
   ],
   "source": [
    "# Training loop\n",
    "best_val_loss = float('inf')\n",
    "\n",
    "# Training loop\n",
    "for epoch in range(num_epochs):\n",
    "    # Training\n",
    "    train_loss = 0\n",
    "    train_correct = 0\n",
    "    train_total = 0\n",
    "    model.train()\n",
    "    for batch_X, batch_y in train_dataloader:\n",
    "        # Forward pass\n",
    "        batch_X, batch_y = batch_X.to(device), batch_y.to(device)\n",
    "        # batch_X.shape == (batch_size, max_len)\n",
    "        logits = model(batch_X)\n",
    "\n",
    "        # Compute loss\n",
    "        loss = criterion(logits, batch_y)\n",
    "\n",
    "        # Backward pass and optimization\n",
    "        optimizer.zero_grad()\n",
    "        loss.backward()\n",
    "        optimizer.step()\n",
    "\n",
    "        # Calculate training accuracy and loss\n",
    "        train_loss += loss.item()\n",
    "        train_correct += calculate_accuracy(logits, batch_y) * batch_y.size(0)\n",
    "        train_total += batch_y.size(0)\n",
    "\n",
    "    train_accuracy = train_correct / train_total\n",
    "    train_loss /= len(train_dataloader)\n",
    "\n",
    "    # Validation\n",
    "    val_loss, val_accuracy = evaluate(model, valid_dataloader, criterion, device)\n",
    "\n",
    "    print(f'Epoch {epoch+1}/{num_epochs}:')\n",
    "    print(f'Train Loss: {train_loss:.4f}, Train Accuracy: {train_accuracy:.4f}')\n",
    "    print(f'Validation Loss: {val_loss:.4f}, Validation Accuracy: {val_accuracy:.4f}')\n",
    "\n",
    "    # 검증 손실이 최소일 때 체크포인트 저장\n",
    "    if val_loss < best_val_loss:\n",
    "        print(f'Validation loss improved from {best_val_loss:.4f} to {val_loss:.4f}. 체크포인트를 저장합니다.')\n",
    "        best_val_loss = val_loss\n",
    "        torch.save(model.state_dict(), 'best_model_checkpoint.pth')"
   ]
  },
  {
   "cell_type": "markdown",
   "metadata": {},
   "source": [
    "## 모델 로드 및 평가"
   ]
  },
  {
   "cell_type": "code",
   "execution_count": 58,
   "metadata": {},
   "outputs": [
    {
     "data": {
      "text/plain": [
       "TextClassifier(\n",
       "  (embedding): Embedding(10875, 100)\n",
       "  (lstm): LSTM(100, 128, batch_first=True)\n",
       "  (fc): Linear(in_features=128, out_features=2, bias=True)\n",
       ")"
      ]
     },
     "execution_count": 58,
     "metadata": {},
     "output_type": "execute_result"
    }
   ],
   "source": [
    "# 모델 로드\n",
    "model.load_state_dict(torch.load('best_model_checkpoint.pth'))\n",
    "\n",
    "# 모델을 device에 올립니다.\n",
    "model.to(device)"
   ]
  },
  {
   "cell_type": "code",
   "execution_count": 59,
   "metadata": {},
   "outputs": [
    {
     "name": "stdout",
     "output_type": "stream",
     "text": [
      "Best model validation loss: 0.0550\n",
      "Best model validation accuracy: 0.9877\n"
     ]
    }
   ],
   "source": [
    "# 검증 데이터에 대한 정확도와 손실 계산\n",
    "val_loss, val_accuracy = evaluate(model, valid_dataloader, criterion, device)\n",
    "\n",
    "print(f'Best model validation loss: {val_loss:.4f}')\n",
    "print(f'Best model validation accuracy: {val_accuracy:.4f}')"
   ]
  },
  {
   "cell_type": "code",
   "execution_count": 60,
   "metadata": {},
   "outputs": [
    {
     "name": "stdout",
     "output_type": "stream",
     "text": [
      "Best model test loss: 0.0710\n",
      "Best model test accuracy: 0.9836\n"
     ]
    }
   ],
   "source": [
    "# 테스트 데이터에 대한 정확도와 손실 계산\n",
    "test_loss, test_accuracy = evaluate(model, test_dataloader, criterion, device)\n",
    "\n",
    "print(f'Best model test loss: {test_loss:.4f}')\n",
    "print(f'Best model test accuracy: {test_accuracy:.4f}')"
   ]
  },
  {
   "cell_type": "markdown",
   "metadata": {},
   "source": [
    "## 모델 테스트"
   ]
  },
  {
   "cell_type": "code",
   "execution_count": 106,
   "metadata": {},
   "outputs": [],
   "source": [
    "index_to_tag = {0 : '부정', 1 : '긍정'}\n",
    "\n",
    "def predict(text, model, word_to_index, index_to_tag,max_len):\n",
    "    # Set the model to evaluation mode\n",
    "    model.eval()\n",
    "\n",
    "    # Tokenize the input text\n",
    "    tokens = mecab.morphs(text) # 토큰화\n",
    "    tokens = [word for word in tokens if not word in stopword] # 불용어 제거\n",
    "    token_indices = [word_to_index.get(token, 1) for token in tokens]\n",
    "\n",
    "    \n",
    "    if len(token_indices) < max_len:\n",
    "        count = max_len - len(token_indices)\n",
    "        for _ in range(count):\n",
    "            token_indices.append(0)\n",
    "\n",
    "\n",
    "\n",
    "    # Convert tokens to tensor\n",
    "    input_tensor = torch.tensor([token_indices], dtype=torch.long).to(device)  # (1, seq_length)\n",
    "\n",
    "    # Pass the input tensor through the model\n",
    "    with torch.no_grad():\n",
    "        logits = model(input_tensor)  # (1, output_dim)\n",
    "\n",
    "    # Get the predicted class index\n",
    "    predicted_index = torch.argmax(logits, dim=1)\n",
    "\n",
    "    # Convert the predicted index to its corresponding tag\n",
    "    predicted_tag = index_to_tag[predicted_index.item()]\n",
    "\n",
    "    return predicted_tag"
   ]
  },
  {
   "cell_type": "code",
   "execution_count": 107,
   "metadata": {},
   "outputs": [
    {
     "data": {
      "text/plain": [
       "'긍정'"
      ]
     },
     "execution_count": 107,
     "metadata": {},
     "output_type": "execute_result"
    }
   ],
   "source": [
    "test_input = \"맛있어요\"\n",
    "predict(test_input, model, word_to_index, index_to_tag,max_len)\n"
   ]
  },
  {
   "cell_type": "code",
   "execution_count": 108,
   "metadata": {},
   "outputs": [
    {
     "data": {
      "text/plain": [
       "'부정'"
      ]
     },
     "execution_count": 108,
     "metadata": {},
     "output_type": "execute_result"
    }
   ],
   "source": [
    "test_input = \"더럽게 맛없어요\"\n",
    "predict(test_input, model, word_to_index, index_to_tag,max_len)\n"
   ]
  },
  {
   "cell_type": "markdown",
   "metadata": {},
   "source": [
    "## 모델 저장\n",
    "- 모델"
   ]
  },
  {
   "cell_type": "code",
   "execution_count": 109,
   "metadata": {},
   "outputs": [],
   "source": [
    "with open(\"third_model.pkl\", \"wb\") as f:\n",
    "    pickle.dump(model, f)"
   ]
  },
  {
   "cell_type": "markdown",
   "metadata": {},
   "source": [
    "## 중앙 값들에 대한 모델 적용"
   ]
  },
  {
   "cell_type": "code",
   "execution_count": 110,
   "metadata": {},
   "outputs": [],
   "source": [
    "cal_data =  labeling_data.query('textLevel == 3').copy()"
   ]
  },
  {
   "cell_type": "code",
   "execution_count": 111,
   "metadata": {},
   "outputs": [
    {
     "data": {
      "text/html": [
       "<div>\n",
       "<style scoped>\n",
       "    .dataframe tbody tr th:only-of-type {\n",
       "        vertical-align: middle;\n",
       "    }\n",
       "\n",
       "    .dataframe tbody tr th {\n",
       "        vertical-align: top;\n",
       "    }\n",
       "\n",
       "    .dataframe thead th {\n",
       "        text-align: right;\n",
       "    }\n",
       "</style>\n",
       "<table border=\"1\" class=\"dataframe\">\n",
       "  <thead>\n",
       "    <tr style=\"text-align: right;\">\n",
       "      <th></th>\n",
       "      <th>textLevel</th>\n",
       "      <th>textContent</th>\n",
       "    </tr>\n",
       "  </thead>\n",
       "  <tbody>\n",
       "  </tbody>\n",
       "</table>\n",
       "</div>"
      ],
      "text/plain": [
       "Empty DataFrame\n",
       "Columns: [textLevel, textContent]\n",
       "Index: []"
      ]
     },
     "execution_count": 111,
     "metadata": {},
     "output_type": "execute_result"
    }
   ],
   "source": [
    "cal_data.query('textContent.str.contains(\"^ +\")')"
   ]
  },
  {
   "cell_type": "code",
   "execution_count": 112,
   "metadata": {},
   "outputs": [
    {
     "data": {
      "text/plain": [
       "textLevel      0\n",
       "textContent    0\n",
       "dtype: int64"
      ]
     },
     "execution_count": 112,
     "metadata": {},
     "output_type": "execute_result"
    }
   ],
   "source": [
    "cal_data.isnull().sum()"
   ]
  },
  {
   "cell_type": "code",
   "execution_count": 113,
   "metadata": {},
   "outputs": [
    {
     "data": {
      "text/plain": [
       "'부정'"
      ]
     },
     "execution_count": 113,
     "metadata": {},
     "output_type": "execute_result"
    }
   ],
   "source": [
    "test_input = \"좋은 상품 할인 받아서 좋은 가격에 구입했습니다\"\n",
    "predict(test_input, model, word_to_index, index_to_tag,max_len)"
   ]
  },
  {
   "cell_type": "code",
   "execution_count": 116,
   "metadata": {},
   "outputs": [
    {
     "name": "stderr",
     "output_type": "stream",
     "text": [
      "100%|██████████| 8815/8815 [00:04<00:00, 1792.26it/s]\n"
     ]
    }
   ],
   "source": [
    "cal_list = []\n",
    "\n",
    "for i in tqdm(cal_data['textContent']):\n",
    "    if i:\n",
    "        try:\n",
    "            prd = predict(test_input, model, word_to_index, index_to_tag,max_len)\n",
    "            if prd[0] == '긍정':\n",
    "                cal_list.append(1)\n",
    "            else:\n",
    "                cal_list.append(0)\n",
    "        except:\n",
    "            cal_list.append(np.nan)"
   ]
  },
  {
   "cell_type": "code",
   "execution_count": 117,
   "metadata": {},
   "outputs": [
    {
     "data": {
      "text/plain": [
       "0    8815\n",
       "Name: count, dtype: int64"
      ]
     },
     "execution_count": 117,
     "metadata": {},
     "output_type": "execute_result"
    }
   ],
   "source": [
    "pd.Series(cal_list).value_counts()"
   ]
  },
  {
   "cell_type": "markdown",
   "metadata": {},
   "source": [
    "## 결론"
   ]
  },
  {
   "cell_type": "markdown",
   "metadata": {},
   "source": [
    "- 검증 데이터 정확도 약 0.99\n",
    "- 테스트 데이터 정확도 약 0.98\n",
    "- TF-IDF를 적용했을 때 보다 훨신 좋은 결과를 얻었다\n",
    "    + TF-IDF를 적용하는데 뭔가 잘못이 있었던것 같다.\n",
    "    + 또는 모델에 소프트 맥스 함수를 적용했었는데 거기서 뭔가 잘못 진행된 것 같다.\n",
    "\n",
    "- 그러나, 실제 서비스에 적용하니 신뢰도가 굉장히 떨어졌다.\n",
    "    + 서비스에 입력되는 데이터를 학습 데이터 형태로 맞추지 않았던게 요인일수도 있겠다는 생각이 들었다.\n",
    "    + 변경 결과 똑같은 값을 얻었다. 아무래도 데이터의 부족이거나 모델복잡도에서 문제가 있는 것으로 생각된다."
   ]
  },
  {
   "cell_type": "markdown",
   "metadata": {},
   "source": []
  }
 ],
 "metadata": {
  "kernelspec": {
   "display_name": "Python 3",
   "language": "python",
   "name": "python3"
  },
  "language_info": {
   "codemirror_mode": {
    "name": "ipython",
    "version": 3
   },
   "file_extension": ".py",
   "mimetype": "text/x-python",
   "name": "python",
   "nbconvert_exporter": "python",
   "pygments_lexer": "ipython3",
   "version": "3.11.9"
  }
 },
 "nbformat": 4,
 "nbformat_minor": 2
}
