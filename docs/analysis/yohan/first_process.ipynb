{
 "cells": [
  {
   "cell_type": "code",
   "execution_count": 1,
   "metadata": {},
   "outputs": [],
   "source": [
    "import pandas as pd"
   ]
  },
  {
   "cell_type": "code",
   "execution_count": 5,
   "metadata": {},
   "outputs": [],
   "source": [
    "df_bibim1 = pd.read_csv(\"../../selenium/yohan/data/bibim/local.bibim1.csv\")\n",
    "df_bibim2 = pd.read_csv(\"../../selenium/yohan/data/bibim/local.bibim2.csv\")\n",
    "df_bibim3 = pd.read_csv(\"../../selenium/yohan/data/bibim/local.bibim3.csv\")\n",
    "df_bibim4 = pd.read_csv(\"../../selenium/yohan/data/bibim/local.bibim4.csv\")\n",
    "dfs = [df_bibim1,df_bibim2,df_bibim3,df_bibim4]"
   ]
  },
  {
   "cell_type": "code",
   "execution_count": 6,
   "metadata": {},
   "outputs": [],
   "source": [
    "# object로 되어 있는 날짜 데이터를 datetime으로 변환\n",
    "for i in dfs:\n",
    "    i['textDate'] = pd.to_datetime(i['textDate'])"
   ]
  },
  {
   "cell_type": "code",
   "execution_count": 7,
   "metadata": {},
   "outputs": [
    {
     "name": "stdout",
     "output_type": "stream",
     "text": [
      "2021-12-11 00:00:00\n",
      "2021-03-15 00:00:00\n",
      "2020-03-25 00:00:00\n",
      "2018-03-03 00:00:00\n"
     ]
    }
   ],
   "source": [
    "# 같은 기간내 자료를 확인하기 위해 겹쳐지는 최대 날짜 확인\n",
    "for i in dfs:\n",
    "    print(min(i['textDate']))"
   ]
  },
  {
   "cell_type": "markdown",
   "metadata": {},
   "source": [
    "- bibim1에서 최소 날짜가 2021-12-11이므로 이 날짜 이후의 값들을 사용"
   ]
  },
  {
   "cell_type": "code",
   "execution_count": 8,
   "metadata": {},
   "outputs": [],
   "source": [
    "# 통합 데이터 제작\n",
    "df_bibim = pd.DataFrame()\n",
    "df_bibim = pd.concat(dfs)"
   ]
  },
  {
   "cell_type": "code",
   "execution_count": 13,
   "metadata": {},
   "outputs": [],
   "source": [
    "# 기간 내 데이터 활용\n",
    "df_bibim = df_bibim.query('textDate >= \"2021-12-11\"')"
   ]
  },
  {
   "cell_type": "code",
   "execution_count": 14,
   "metadata": {},
   "outputs": [],
   "source": [
    "labeling_data = pd.DataFrame()"
   ]
  },
  {
   "cell_type": "code",
   "execution_count": 15,
   "metadata": {},
   "outputs": [],
   "source": [
    "# 3점을 제외한 나머지 라벨링 작업 함수 제작\n",
    "def labeling(text):\n",
    "    if text in [4,5]:\n",
    "        text = 1\n",
    "    elif text in [1,2]:\n",
    "        text = 0\n",
    "    else:\n",
    "        pass\n",
    "    return text"
   ]
  },
  {
   "cell_type": "code",
   "execution_count": 17,
   "metadata": {},
   "outputs": [
    {
     "data": {
      "text/html": [
       "<div>\n",
       "<style scoped>\n",
       "    .dataframe tbody tr th:only-of-type {\n",
       "        vertical-align: middle;\n",
       "    }\n",
       "\n",
       "    .dataframe tbody tr th {\n",
       "        vertical-align: top;\n",
       "    }\n",
       "\n",
       "    .dataframe thead th {\n",
       "        text-align: right;\n",
       "    }\n",
       "</style>\n",
       "<table border=\"1\" class=\"dataframe\">\n",
       "  <thead>\n",
       "    <tr style=\"text-align: right;\">\n",
       "      <th></th>\n",
       "      <th>textLevel</th>\n",
       "      <th>textContent</th>\n",
       "    </tr>\n",
       "  </thead>\n",
       "  <tbody>\n",
       "    <tr>\n",
       "      <th>0</th>\n",
       "      <td>5</td>\n",
       "      <td>좋은 상품 할인 받아서 좋은 가격에 구입했습니다 꼼꼼하게 포장되어서 빠르게 배송 받...</td>\n",
       "    </tr>\n",
       "    <tr>\n",
       "      <th>1</th>\n",
       "      <td>5</td>\n",
       "      <td>이번에 딸기버전으로 뭔가 새로 나왔는지 기본이 아니라 딸기맛으로 왔네요! 근데 딸기...</td>\n",
       "    </tr>\n",
       "    <tr>\n",
       "      <th>2</th>\n",
       "      <td>5</td>\n",
       "      <td>시즌한정 딸기버젼으로 받았어요. 음... 전 그냥 원래가 더 나은거 같아요. 개인적...</td>\n",
       "    </tr>\n",
       "    <tr>\n",
       "      <th>3</th>\n",
       "      <td>5</td>\n",
       "      <td>비빔면은 팔도! 소고기에 비빔면 올려 맛있게 먹을 예정. 음-군침 돈다.</td>\n",
       "    </tr>\n",
       "    <tr>\n",
       "      <th>4</th>\n",
       "      <td>5</td>\n",
       "      <td>자주 구매하고 있어요</td>\n",
       "    </tr>\n",
       "    <tr>\n",
       "      <th>...</th>\n",
       "      <td>...</td>\n",
       "      <td>...</td>\n",
       "    </tr>\n",
       "    <tr>\n",
       "      <th>1257</th>\n",
       "      <td>5</td>\n",
       "      <td>배송도빠르고 상품도 좋네요</td>\n",
       "    </tr>\n",
       "    <tr>\n",
       "      <th>1258</th>\n",
       "      <td>5</td>\n",
       "      <td>항상 사는제품~~ 넘 맛있어요</td>\n",
       "    </tr>\n",
       "    <tr>\n",
       "      <th>1259</th>\n",
       "      <td>5</td>\n",
       "      <td>빠른배송 감사합니다</td>\n",
       "    </tr>\n",
       "    <tr>\n",
       "      <th>1620</th>\n",
       "      <td>2</td>\n",
       "      <td>별로맛이없어요..!!</td>\n",
       "    </tr>\n",
       "    <tr>\n",
       "      <th>1621</th>\n",
       "      <td>2</td>\n",
       "      <td>뭔가 아쉬움 살짝 부족한맛</td>\n",
       "    </tr>\n",
       "  </tbody>\n",
       "</table>\n",
       "<p>46303 rows × 2 columns</p>\n",
       "</div>"
      ],
      "text/plain": [
       "      textLevel                                        textContent\n",
       "0             5  좋은 상품 할인 받아서 좋은 가격에 구입했습니다 꼼꼼하게 포장되어서 빠르게 배송 받...\n",
       "1             5  이번에 딸기버전으로 뭔가 새로 나왔는지 기본이 아니라 딸기맛으로 왔네요! 근데 딸기...\n",
       "2             5  시즌한정 딸기버젼으로 받았어요. 음... 전 그냥 원래가 더 나은거 같아요. 개인적...\n",
       "3             5           비빔면은 팔도! 소고기에 비빔면 올려 맛있게 먹을 예정. 음-군침 돈다.\n",
       "4             5                                        자주 구매하고 있어요\n",
       "...         ...                                                ...\n",
       "1257          5                                     배송도빠르고 상품도 좋네요\n",
       "1258          5                                   항상 사는제품~~ 넘 맛있어요\n",
       "1259          5                                         빠른배송 감사합니다\n",
       "1620          2                                        별로맛이없어요..!!\n",
       "1621          2                                     뭔가 아쉬움 살짝 부족한맛\n",
       "\n",
       "[46303 rows x 2 columns]"
      ]
     },
     "execution_count": 17,
     "metadata": {},
     "output_type": "execute_result"
    }
   ],
   "source": [
    "labeling_data = df_bibim[[\"textLevel\",\"textContent\"]]\n",
    "labeling_data"
   ]
  },
  {
   "cell_type": "code",
   "execution_count": 18,
   "metadata": {},
   "outputs": [],
   "source": [
    "labeling_data = labeling_data.reset_index()"
   ]
  },
  {
   "cell_type": "code",
   "execution_count": 19,
   "metadata": {},
   "outputs": [],
   "source": [
    "labeling_data = labeling_data.drop(columns='index')"
   ]
  },
  {
   "cell_type": "code",
   "execution_count": 20,
   "metadata": {},
   "outputs": [
    {
     "data": {
      "text/html": [
       "<div>\n",
       "<style scoped>\n",
       "    .dataframe tbody tr th:only-of-type {\n",
       "        vertical-align: middle;\n",
       "    }\n",
       "\n",
       "    .dataframe tbody tr th {\n",
       "        vertical-align: top;\n",
       "    }\n",
       "\n",
       "    .dataframe thead th {\n",
       "        text-align: right;\n",
       "    }\n",
       "</style>\n",
       "<table border=\"1\" class=\"dataframe\">\n",
       "  <thead>\n",
       "    <tr style=\"text-align: right;\">\n",
       "      <th></th>\n",
       "      <th>textLevel</th>\n",
       "      <th>textContent</th>\n",
       "    </tr>\n",
       "  </thead>\n",
       "  <tbody>\n",
       "    <tr>\n",
       "      <th>0</th>\n",
       "      <td>1</td>\n",
       "      <td>좋은 상품 할인 받아서 좋은 가격에 구입했습니다 꼼꼼하게 포장되어서 빠르게 배송 받...</td>\n",
       "    </tr>\n",
       "    <tr>\n",
       "      <th>1</th>\n",
       "      <td>1</td>\n",
       "      <td>이번에 딸기버전으로 뭔가 새로 나왔는지 기본이 아니라 딸기맛으로 왔네요! 근데 딸기...</td>\n",
       "    </tr>\n",
       "    <tr>\n",
       "      <th>2</th>\n",
       "      <td>1</td>\n",
       "      <td>시즌한정 딸기버젼으로 받았어요. 음... 전 그냥 원래가 더 나은거 같아요. 개인적...</td>\n",
       "    </tr>\n",
       "    <tr>\n",
       "      <th>3</th>\n",
       "      <td>1</td>\n",
       "      <td>비빔면은 팔도! 소고기에 비빔면 올려 맛있게 먹을 예정. 음-군침 돈다.</td>\n",
       "    </tr>\n",
       "    <tr>\n",
       "      <th>4</th>\n",
       "      <td>1</td>\n",
       "      <td>자주 구매하고 있어요</td>\n",
       "    </tr>\n",
       "    <tr>\n",
       "      <th>...</th>\n",
       "      <td>...</td>\n",
       "      <td>...</td>\n",
       "    </tr>\n",
       "    <tr>\n",
       "      <th>46298</th>\n",
       "      <td>1</td>\n",
       "      <td>배송도빠르고 상품도 좋네요</td>\n",
       "    </tr>\n",
       "    <tr>\n",
       "      <th>46299</th>\n",
       "      <td>1</td>\n",
       "      <td>항상 사는제품~~ 넘 맛있어요</td>\n",
       "    </tr>\n",
       "    <tr>\n",
       "      <th>46300</th>\n",
       "      <td>1</td>\n",
       "      <td>빠른배송 감사합니다</td>\n",
       "    </tr>\n",
       "    <tr>\n",
       "      <th>46301</th>\n",
       "      <td>0</td>\n",
       "      <td>별로맛이없어요..!!</td>\n",
       "    </tr>\n",
       "    <tr>\n",
       "      <th>46302</th>\n",
       "      <td>0</td>\n",
       "      <td>뭔가 아쉬움 살짝 부족한맛</td>\n",
       "    </tr>\n",
       "  </tbody>\n",
       "</table>\n",
       "<p>46303 rows × 2 columns</p>\n",
       "</div>"
      ],
      "text/plain": [
       "       textLevel                                        textContent\n",
       "0              1  좋은 상품 할인 받아서 좋은 가격에 구입했습니다 꼼꼼하게 포장되어서 빠르게 배송 받...\n",
       "1              1  이번에 딸기버전으로 뭔가 새로 나왔는지 기본이 아니라 딸기맛으로 왔네요! 근데 딸기...\n",
       "2              1  시즌한정 딸기버젼으로 받았어요. 음... 전 그냥 원래가 더 나은거 같아요. 개인적...\n",
       "3              1           비빔면은 팔도! 소고기에 비빔면 올려 맛있게 먹을 예정. 음-군침 돈다.\n",
       "4              1                                        자주 구매하고 있어요\n",
       "...          ...                                                ...\n",
       "46298          1                                     배송도빠르고 상품도 좋네요\n",
       "46299          1                                   항상 사는제품~~ 넘 맛있어요\n",
       "46300          1                                         빠른배송 감사합니다\n",
       "46301          0                                        별로맛이없어요..!!\n",
       "46302          0                                     뭔가 아쉬움 살짝 부족한맛\n",
       "\n",
       "[46303 rows x 2 columns]"
      ]
     },
     "execution_count": 20,
     "metadata": {},
     "output_type": "execute_result"
    }
   ],
   "source": [
    "labeling_data['textLevel'] = labeling_data['textLevel'].apply(labeling)\n",
    "labeling_data"
   ]
  },
  {
   "cell_type": "code",
   "execution_count": 21,
   "metadata": {},
   "outputs": [
    {
     "data": {
      "text/plain": [
       "(array([1, 0], dtype=int64),\n",
       " textLevel\n",
       " 1    45251\n",
       " 0      184\n",
       " Name: count, dtype: int64)"
      ]
     },
     "execution_count": 21,
     "metadata": {},
     "output_type": "execute_result"
    }
   ],
   "source": [
    "save_data_bibim = labeling_data.query(\"textLevel.isin([1,0])\")\n",
    "save_data_bibim['textLevel'].unique(), save_data_bibim['textLevel'].value_counts()"
   ]
  },
  {
   "cell_type": "code",
   "execution_count": 21,
   "metadata": {},
   "outputs": [],
   "source": [
    "# save_data_bibim.to_csv('bibim_learndata.csv', index=False)"
   ]
  },
  {
   "cell_type": "code",
   "execution_count": null,
   "metadata": {},
   "outputs": [],
   "source": []
  }
 ],
 "metadata": {
  "kernelspec": {
   "display_name": "Python 3",
   "language": "python",
   "name": "python3"
  },
  "language_info": {
   "codemirror_mode": {
    "name": "ipython",
    "version": 3
   },
   "file_extension": ".py",
   "mimetype": "text/x-python",
   "name": "python",
   "nbconvert_exporter": "python",
   "pygments_lexer": "ipython3",
   "version": "3.10.7"
  }
 },
 "nbformat": 4,
 "nbformat_minor": 2
}
