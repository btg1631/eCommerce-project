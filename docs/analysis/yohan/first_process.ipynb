{
 "cells": [
  {
   "cell_type": "code",
   "execution_count": 4,
   "metadata": {},
   "outputs": [],
   "source": [
    "import pandas as pd"
   ]
  },
  {
   "cell_type": "code",
   "execution_count": 5,
   "metadata": {},
   "outputs": [],
   "source": [
    "df_bibim1 = pd.read_csv(\"../../selenium/yohan/data/bibim/local.bibim1.csv\")\n",
    "df_bibim2 = pd.read_csv(\"../../selenium/yohan/data/bibim/local.bibim2.csv\")\n",
    "df_bibim3 = pd.read_csv(\"../../selenium/yohan/data/bibim/local.bibim3.csv\")\n",
    "df_bibim4 = pd.read_csv(\"../../selenium/yohan/data/bibim/local.bibim4.csv\")\n",
    "dfs = [df_bibim1,df_bibim2,df_bibim3,df_bibim4]"
   ]
  },
  {
   "cell_type": "code",
   "execution_count": 6,
   "metadata": {},
   "outputs": [
    {
     "data": {
      "text/html": [
       "<div>\n",
       "<style scoped>\n",
       "    .dataframe tbody tr th:only-of-type {\n",
       "        vertical-align: middle;\n",
       "    }\n",
       "\n",
       "    .dataframe tbody tr th {\n",
       "        vertical-align: top;\n",
       "    }\n",
       "\n",
       "    .dataframe thead th {\n",
       "        text-align: right;\n",
       "    }\n",
       "</style>\n",
       "<table border=\"1\" class=\"dataframe\">\n",
       "  <thead>\n",
       "    <tr style=\"text-align: right;\">\n",
       "      <th></th>\n",
       "      <th>_id</th>\n",
       "      <th>merchTitle</th>\n",
       "      <th>merchPrice</th>\n",
       "      <th>merchOld</th>\n",
       "      <th>merchEvent</th>\n",
       "      <th>textName</th>\n",
       "      <th>textDate</th>\n",
       "      <th>textLevel</th>\n",
       "      <th>textContent</th>\n",
       "    </tr>\n",
       "  </thead>\n",
       "  <tbody>\n",
       "    <tr>\n",
       "      <th>0</th>\n",
       "      <td>65f7b0ff73c6e006405497f1</td>\n",
       "      <td>팔도비빔면 130g*4개</td>\n",
       "      <td>3330</td>\n",
       "      <td>NaN</td>\n",
       "      <td>False</td>\n",
       "      <td>yj9*******</td>\n",
       "      <td>2023.09.16</td>\n",
       "      <td>5</td>\n",
       "      <td>좋은 상품 할인 받아서 좋은 가격에 구입했습니다 꼼꼼하게 포장되어서 빠르게 배송 받...</td>\n",
       "    </tr>\n",
       "    <tr>\n",
       "      <th>1</th>\n",
       "      <td>65f7b0ff73c6e006405497f2</td>\n",
       "      <td>팔도비빔면 130g*4개</td>\n",
       "      <td>3330</td>\n",
       "      <td>NaN</td>\n",
       "      <td>False</td>\n",
       "      <td>dnj*******</td>\n",
       "      <td>2024.03.11</td>\n",
       "      <td>5</td>\n",
       "      <td>이번에 딸기버전으로 뭔가 새로 나왔는지 기본이 아니라 딸기맛으로 왔네요! 근데 딸기...</td>\n",
       "    </tr>\n",
       "    <tr>\n",
       "      <th>2</th>\n",
       "      <td>65f7b0ff73c6e006405497f3</td>\n",
       "      <td>팔도비빔면 130g*4개</td>\n",
       "      <td>3330</td>\n",
       "      <td>NaN</td>\n",
       "      <td>False</td>\n",
       "      <td>bhb*******</td>\n",
       "      <td>2024.03.03</td>\n",
       "      <td>5</td>\n",
       "      <td>시즌한정 딸기버젼으로 받았어요. 음... 전 그냥 원래가 더 나은거 같아요. 개인적...</td>\n",
       "    </tr>\n",
       "    <tr>\n",
       "      <th>3</th>\n",
       "      <td>65f7b0ff73c6e006405497f4</td>\n",
       "      <td>팔도비빔면 130g*4개</td>\n",
       "      <td>3330</td>\n",
       "      <td>NaN</td>\n",
       "      <td>False</td>\n",
       "      <td>ehk*******</td>\n",
       "      <td>2024.02.03</td>\n",
       "      <td>5</td>\n",
       "      <td>비빔면은 팔도! 소고기에 비빔면 올려 맛있게 먹을 예정. 음-군침 돈다.</td>\n",
       "    </tr>\n",
       "    <tr>\n",
       "      <th>4</th>\n",
       "      <td>65f7b0ff73c6e006405497f5</td>\n",
       "      <td>팔도비빔면 130g*4개</td>\n",
       "      <td>3330</td>\n",
       "      <td>NaN</td>\n",
       "      <td>False</td>\n",
       "      <td>ryu*******</td>\n",
       "      <td>2024.01.14</td>\n",
       "      <td>5</td>\n",
       "      <td>자주 구매하고 있어요</td>\n",
       "    </tr>\n",
       "    <tr>\n",
       "      <th>...</th>\n",
       "      <td>...</td>\n",
       "      <td>...</td>\n",
       "      <td>...</td>\n",
       "      <td>...</td>\n",
       "      <td>...</td>\n",
       "      <td>...</td>\n",
       "      <td>...</td>\n",
       "      <td>...</td>\n",
       "      <td>...</td>\n",
       "    </tr>\n",
       "    <tr>\n",
       "      <th>11565</th>\n",
       "      <td>65f7b88173c6e0064054c51e</td>\n",
       "      <td>팔도비빔면 130g*4개</td>\n",
       "      <td>3330</td>\n",
       "      <td>NaN</td>\n",
       "      <td>False</td>\n",
       "      <td>maj*******</td>\n",
       "      <td>2023.05.03</td>\n",
       "      <td>5</td>\n",
       "      <td>없으면 아쉽더라구요ㅎㅎ</td>\n",
       "    </tr>\n",
       "    <tr>\n",
       "      <th>11566</th>\n",
       "      <td>65f7b88173c6e0064054c51f</td>\n",
       "      <td>팔도비빔면 130g*4개</td>\n",
       "      <td>3330</td>\n",
       "      <td>NaN</td>\n",
       "      <td>False</td>\n",
       "      <td>chh*******</td>\n",
       "      <td>2023.05.03</td>\n",
       "      <td>5</td>\n",
       "      <td>자주구매하는 제품입니다</td>\n",
       "    </tr>\n",
       "    <tr>\n",
       "      <th>11567</th>\n",
       "      <td>65f7b88173c6e0064054c520</td>\n",
       "      <td>팔도비빔면 130g*4개</td>\n",
       "      <td>3330</td>\n",
       "      <td>NaN</td>\n",
       "      <td>False</td>\n",
       "      <td>aje*******</td>\n",
       "      <td>2023.05.03</td>\n",
       "      <td>5</td>\n",
       "      <td>항상 주문하는 제품입니다</td>\n",
       "    </tr>\n",
       "    <tr>\n",
       "      <th>11568</th>\n",
       "      <td>65f7b88173c6e0064054c521</td>\n",
       "      <td>팔도비빔면 130g*4개</td>\n",
       "      <td>3330</td>\n",
       "      <td>NaN</td>\n",
       "      <td>False</td>\n",
       "      <td>yim*******</td>\n",
       "      <td>2023.05.03</td>\n",
       "      <td>5</td>\n",
       "      <td>잘 받았어요~ 감사합니다.</td>\n",
       "    </tr>\n",
       "    <tr>\n",
       "      <th>11569</th>\n",
       "      <td>65f7b88173c6e0064054c522</td>\n",
       "      <td>팔도비빔면 130g*4개</td>\n",
       "      <td>3330</td>\n",
       "      <td>NaN</td>\n",
       "      <td>False</td>\n",
       "      <td>eun*******</td>\n",
       "      <td>2023.05.03</td>\n",
       "      <td>5</td>\n",
       "      <td>비빔면은 역시 팔도가 원탑</td>\n",
       "    </tr>\n",
       "  </tbody>\n",
       "</table>\n",
       "<p>11570 rows × 9 columns</p>\n",
       "</div>"
      ],
      "text/plain": [
       "                            _id     merchTitle  merchPrice  merchOld  \\\n",
       "0      65f7b0ff73c6e006405497f1  팔도비빔면 130g*4개        3330       NaN   \n",
       "1      65f7b0ff73c6e006405497f2  팔도비빔면 130g*4개        3330       NaN   \n",
       "2      65f7b0ff73c6e006405497f3  팔도비빔면 130g*4개        3330       NaN   \n",
       "3      65f7b0ff73c6e006405497f4  팔도비빔면 130g*4개        3330       NaN   \n",
       "4      65f7b0ff73c6e006405497f5  팔도비빔면 130g*4개        3330       NaN   \n",
       "...                         ...            ...         ...       ...   \n",
       "11565  65f7b88173c6e0064054c51e  팔도비빔면 130g*4개        3330       NaN   \n",
       "11566  65f7b88173c6e0064054c51f  팔도비빔면 130g*4개        3330       NaN   \n",
       "11567  65f7b88173c6e0064054c520  팔도비빔면 130g*4개        3330       NaN   \n",
       "11568  65f7b88173c6e0064054c521  팔도비빔면 130g*4개        3330       NaN   \n",
       "11569  65f7b88173c6e0064054c522  팔도비빔면 130g*4개        3330       NaN   \n",
       "\n",
       "       merchEvent    textName    textDate  textLevel  \\\n",
       "0           False  yj9*******  2023.09.16          5   \n",
       "1           False  dnj*******  2024.03.11          5   \n",
       "2           False  bhb*******  2024.03.03          5   \n",
       "3           False  ehk*******  2024.02.03          5   \n",
       "4           False  ryu*******  2024.01.14          5   \n",
       "...           ...         ...         ...        ...   \n",
       "11565       False  maj*******  2023.05.03          5   \n",
       "11566       False  chh*******  2023.05.03          5   \n",
       "11567       False  aje*******  2023.05.03          5   \n",
       "11568       False  yim*******  2023.05.03          5   \n",
       "11569       False  eun*******  2023.05.03          5   \n",
       "\n",
       "                                             textContent  \n",
       "0      좋은 상품 할인 받아서 좋은 가격에 구입했습니다 꼼꼼하게 포장되어서 빠르게 배송 받...  \n",
       "1      이번에 딸기버전으로 뭔가 새로 나왔는지 기본이 아니라 딸기맛으로 왔네요! 근데 딸기...  \n",
       "2      시즌한정 딸기버젼으로 받았어요. 음... 전 그냥 원래가 더 나은거 같아요. 개인적...  \n",
       "3               비빔면은 팔도! 소고기에 비빔면 올려 맛있게 먹을 예정. 음-군침 돈다.  \n",
       "4                                            자주 구매하고 있어요  \n",
       "...                                                  ...  \n",
       "11565                                       없으면 아쉽더라구요ㅎㅎ  \n",
       "11566                                       자주구매하는 제품입니다  \n",
       "11567                                      항상 주문하는 제품입니다  \n",
       "11568                                     잘 받았어요~ 감사합니다.  \n",
       "11569                                     비빔면은 역시 팔도가 원탑  \n",
       "\n",
       "[11570 rows x 9 columns]"
      ]
     },
     "execution_count": 6,
     "metadata": {},
     "output_type": "execute_result"
    }
   ],
   "source": [
    "df_bibim1"
   ]
  },
  {
   "cell_type": "code",
   "execution_count": 7,
   "metadata": {},
   "outputs": [],
   "source": [
    "# object로 되어 있는 날짜 데이터를 datetime으로 변환\n",
    "for i in dfs:\n",
    "    i['textDate'] = pd.to_datetime(i['textDate'])"
   ]
  },
  {
   "cell_type": "code",
   "execution_count": 8,
   "metadata": {},
   "outputs": [
    {
     "name": "stdout",
     "output_type": "stream",
     "text": [
      "2021-12-11 00:00:00\n",
      "2021-03-15 00:00:00\n",
      "2020-03-25 00:00:00\n",
      "2018-03-03 00:00:00\n"
     ]
    }
   ],
   "source": [
    "# 같은 기간내 자료를 확인하기 위해 겹쳐지는 최대 날짜 확인\n",
    "for i in dfs:\n",
    "    print(min(i['textDate']))"
   ]
  },
  {
   "cell_type": "markdown",
   "metadata": {},
   "source": [
    "- bibim1에서 최소 날짜가 2021-12-11이므로 이 날짜 이후의 값들을 사용"
   ]
  },
  {
   "cell_type": "code",
   "execution_count": 9,
   "metadata": {},
   "outputs": [],
   "source": [
    "# 통합 데이터 제작\n",
    "df_bibim = pd.DataFrame()\n",
    "df_bibim = pd.concat(dfs)"
   ]
  },
  {
   "cell_type": "code",
   "execution_count": 10,
   "metadata": {},
   "outputs": [],
   "source": [
    "# 기간 내 데이터 활용\n",
    "df_bibim = df_bibim.query('textDate >= \"2021-12-11\"')"
   ]
  },
  {
   "cell_type": "code",
   "execution_count": 11,
   "metadata": {},
   "outputs": [],
   "source": [
    "labeling_data = pd.DataFrame()"
   ]
  },
  {
   "cell_type": "code",
   "execution_count": 12,
   "metadata": {},
   "outputs": [],
   "source": [
    "# 3점을 제외한 나머지 라벨링 작업 함수 제작\n",
    "def labeling(text):\n",
    "    if text in [4,5]:\n",
    "        text = 1\n",
    "    elif text in [1,2]:\n",
    "        text = 0\n",
    "    else:\n",
    "        pass\n",
    "    return text"
   ]
  },
  {
   "cell_type": "code",
   "execution_count": 13,
   "metadata": {},
   "outputs": [
    {
     "data": {
      "text/html": [
       "<div>\n",
       "<style scoped>\n",
       "    .dataframe tbody tr th:only-of-type {\n",
       "        vertical-align: middle;\n",
       "    }\n",
       "\n",
       "    .dataframe tbody tr th {\n",
       "        vertical-align: top;\n",
       "    }\n",
       "\n",
       "    .dataframe thead th {\n",
       "        text-align: right;\n",
       "    }\n",
       "</style>\n",
       "<table border=\"1\" class=\"dataframe\">\n",
       "  <thead>\n",
       "    <tr style=\"text-align: right;\">\n",
       "      <th></th>\n",
       "      <th>textLevel</th>\n",
       "      <th>textContent</th>\n",
       "    </tr>\n",
       "  </thead>\n",
       "  <tbody>\n",
       "    <tr>\n",
       "      <th>0</th>\n",
       "      <td>5</td>\n",
       "      <td>좋은 상품 할인 받아서 좋은 가격에 구입했습니다 꼼꼼하게 포장되어서 빠르게 배송 받...</td>\n",
       "    </tr>\n",
       "    <tr>\n",
       "      <th>1</th>\n",
       "      <td>5</td>\n",
       "      <td>이번에 딸기버전으로 뭔가 새로 나왔는지 기본이 아니라 딸기맛으로 왔네요! 근데 딸기...</td>\n",
       "    </tr>\n",
       "    <tr>\n",
       "      <th>2</th>\n",
       "      <td>5</td>\n",
       "      <td>시즌한정 딸기버젼으로 받았어요. 음... 전 그냥 원래가 더 나은거 같아요. 개인적...</td>\n",
       "    </tr>\n",
       "    <tr>\n",
       "      <th>3</th>\n",
       "      <td>5</td>\n",
       "      <td>비빔면은 팔도! 소고기에 비빔면 올려 맛있게 먹을 예정. 음-군침 돈다.</td>\n",
       "    </tr>\n",
       "    <tr>\n",
       "      <th>4</th>\n",
       "      <td>5</td>\n",
       "      <td>자주 구매하고 있어요</td>\n",
       "    </tr>\n",
       "    <tr>\n",
       "      <th>...</th>\n",
       "      <td>...</td>\n",
       "      <td>...</td>\n",
       "    </tr>\n",
       "    <tr>\n",
       "      <th>1257</th>\n",
       "      <td>5</td>\n",
       "      <td>배송도빠르고 상품도 좋네요</td>\n",
       "    </tr>\n",
       "    <tr>\n",
       "      <th>1258</th>\n",
       "      <td>5</td>\n",
       "      <td>항상 사는제품~~ 넘 맛있어요</td>\n",
       "    </tr>\n",
       "    <tr>\n",
       "      <th>1259</th>\n",
       "      <td>5</td>\n",
       "      <td>빠른배송 감사합니다</td>\n",
       "    </tr>\n",
       "    <tr>\n",
       "      <th>1620</th>\n",
       "      <td>2</td>\n",
       "      <td>별로맛이없어요..!!</td>\n",
       "    </tr>\n",
       "    <tr>\n",
       "      <th>1621</th>\n",
       "      <td>2</td>\n",
       "      <td>뭔가 아쉬움 살짝 부족한맛</td>\n",
       "    </tr>\n",
       "  </tbody>\n",
       "</table>\n",
       "<p>46303 rows × 2 columns</p>\n",
       "</div>"
      ],
      "text/plain": [
       "      textLevel                                        textContent\n",
       "0             5  좋은 상품 할인 받아서 좋은 가격에 구입했습니다 꼼꼼하게 포장되어서 빠르게 배송 받...\n",
       "1             5  이번에 딸기버전으로 뭔가 새로 나왔는지 기본이 아니라 딸기맛으로 왔네요! 근데 딸기...\n",
       "2             5  시즌한정 딸기버젼으로 받았어요. 음... 전 그냥 원래가 더 나은거 같아요. 개인적...\n",
       "3             5           비빔면은 팔도! 소고기에 비빔면 올려 맛있게 먹을 예정. 음-군침 돈다.\n",
       "4             5                                        자주 구매하고 있어요\n",
       "...         ...                                                ...\n",
       "1257          5                                     배송도빠르고 상품도 좋네요\n",
       "1258          5                                   항상 사는제품~~ 넘 맛있어요\n",
       "1259          5                                         빠른배송 감사합니다\n",
       "1620          2                                        별로맛이없어요..!!\n",
       "1621          2                                     뭔가 아쉬움 살짝 부족한맛\n",
       "\n",
       "[46303 rows x 2 columns]"
      ]
     },
     "execution_count": 13,
     "metadata": {},
     "output_type": "execute_result"
    }
   ],
   "source": [
    "labeling_data = df_bibim[[\"textLevel\",\"textContent\"]]\n",
    "labeling_data"
   ]
  },
  {
   "cell_type": "code",
   "execution_count": 14,
   "metadata": {},
   "outputs": [],
   "source": [
    "labeling_data = labeling_data.reset_index()"
   ]
  },
  {
   "cell_type": "code",
   "execution_count": 15,
   "metadata": {},
   "outputs": [],
   "source": [
    "labeling_data = labeling_data.drop(columns='index')"
   ]
  },
  {
   "cell_type": "code",
   "execution_count": 16,
   "metadata": {},
   "outputs": [
    {
     "data": {
      "text/html": [
       "<div>\n",
       "<style scoped>\n",
       "    .dataframe tbody tr th:only-of-type {\n",
       "        vertical-align: middle;\n",
       "    }\n",
       "\n",
       "    .dataframe tbody tr th {\n",
       "        vertical-align: top;\n",
       "    }\n",
       "\n",
       "    .dataframe thead th {\n",
       "        text-align: right;\n",
       "    }\n",
       "</style>\n",
       "<table border=\"1\" class=\"dataframe\">\n",
       "  <thead>\n",
       "    <tr style=\"text-align: right;\">\n",
       "      <th></th>\n",
       "      <th>textLevel</th>\n",
       "      <th>textContent</th>\n",
       "    </tr>\n",
       "  </thead>\n",
       "  <tbody>\n",
       "    <tr>\n",
       "      <th>0</th>\n",
       "      <td>1</td>\n",
       "      <td>좋은 상품 할인 받아서 좋은 가격에 구입했습니다 꼼꼼하게 포장되어서 빠르게 배송 받...</td>\n",
       "    </tr>\n",
       "    <tr>\n",
       "      <th>1</th>\n",
       "      <td>1</td>\n",
       "      <td>이번에 딸기버전으로 뭔가 새로 나왔는지 기본이 아니라 딸기맛으로 왔네요! 근데 딸기...</td>\n",
       "    </tr>\n",
       "    <tr>\n",
       "      <th>2</th>\n",
       "      <td>1</td>\n",
       "      <td>시즌한정 딸기버젼으로 받았어요. 음... 전 그냥 원래가 더 나은거 같아요. 개인적...</td>\n",
       "    </tr>\n",
       "    <tr>\n",
       "      <th>3</th>\n",
       "      <td>1</td>\n",
       "      <td>비빔면은 팔도! 소고기에 비빔면 올려 맛있게 먹을 예정. 음-군침 돈다.</td>\n",
       "    </tr>\n",
       "    <tr>\n",
       "      <th>4</th>\n",
       "      <td>1</td>\n",
       "      <td>자주 구매하고 있어요</td>\n",
       "    </tr>\n",
       "    <tr>\n",
       "      <th>...</th>\n",
       "      <td>...</td>\n",
       "      <td>...</td>\n",
       "    </tr>\n",
       "    <tr>\n",
       "      <th>46298</th>\n",
       "      <td>1</td>\n",
       "      <td>배송도빠르고 상품도 좋네요</td>\n",
       "    </tr>\n",
       "    <tr>\n",
       "      <th>46299</th>\n",
       "      <td>1</td>\n",
       "      <td>항상 사는제품~~ 넘 맛있어요</td>\n",
       "    </tr>\n",
       "    <tr>\n",
       "      <th>46300</th>\n",
       "      <td>1</td>\n",
       "      <td>빠른배송 감사합니다</td>\n",
       "    </tr>\n",
       "    <tr>\n",
       "      <th>46301</th>\n",
       "      <td>0</td>\n",
       "      <td>별로맛이없어요..!!</td>\n",
       "    </tr>\n",
       "    <tr>\n",
       "      <th>46302</th>\n",
       "      <td>0</td>\n",
       "      <td>뭔가 아쉬움 살짝 부족한맛</td>\n",
       "    </tr>\n",
       "  </tbody>\n",
       "</table>\n",
       "<p>46303 rows × 2 columns</p>\n",
       "</div>"
      ],
      "text/plain": [
       "       textLevel                                        textContent\n",
       "0              1  좋은 상품 할인 받아서 좋은 가격에 구입했습니다 꼼꼼하게 포장되어서 빠르게 배송 받...\n",
       "1              1  이번에 딸기버전으로 뭔가 새로 나왔는지 기본이 아니라 딸기맛으로 왔네요! 근데 딸기...\n",
       "2              1  시즌한정 딸기버젼으로 받았어요. 음... 전 그냥 원래가 더 나은거 같아요. 개인적...\n",
       "3              1           비빔면은 팔도! 소고기에 비빔면 올려 맛있게 먹을 예정. 음-군침 돈다.\n",
       "4              1                                        자주 구매하고 있어요\n",
       "...          ...                                                ...\n",
       "46298          1                                     배송도빠르고 상품도 좋네요\n",
       "46299          1                                   항상 사는제품~~ 넘 맛있어요\n",
       "46300          1                                         빠른배송 감사합니다\n",
       "46301          0                                        별로맛이없어요..!!\n",
       "46302          0                                     뭔가 아쉬움 살짝 부족한맛\n",
       "\n",
       "[46303 rows x 2 columns]"
      ]
     },
     "execution_count": 16,
     "metadata": {},
     "output_type": "execute_result"
    }
   ],
   "source": [
    "labeling_data['textLevel'] = labeling_data['textLevel'].apply(labeling)\n",
    "labeling_data"
   ]
  },
  {
   "cell_type": "code",
   "execution_count": 17,
   "metadata": {},
   "outputs": [
    {
     "data": {
      "text/plain": [
       "(array([1, 0], dtype=int64),\n",
       " textLevel\n",
       " 1    45251\n",
       " 0      184\n",
       " Name: count, dtype: int64)"
      ]
     },
     "execution_count": 17,
     "metadata": {},
     "output_type": "execute_result"
    }
   ],
   "source": [
    "save_data_bibim = labeling_data.query(\"textLevel.isin([1,0])\")\n",
    "save_data_bibim['textLevel'].unique(), save_data_bibim['textLevel'].value_counts()"
   ]
  },
  {
   "cell_type": "code",
   "execution_count": 18,
   "metadata": {},
   "outputs": [],
   "source": [
    "# save_data_bibim.to_csv('bibim_learndata.csv', index=False)"
   ]
  },
  {
   "cell_type": "code",
   "execution_count": 42,
   "metadata": {},
   "outputs": [],
   "source": [
    "# df_oil1 = pd.read_csv(\"../../selenium/yohan/data/chamoil/local.oil1.csv\")\n",
    "# df_oil2 = pd.read_csv(\"../../selenium/yohan/data/chamoil/local.oil2.csv\")\n",
    "# df_oil3 = pd.read_csv(\"../../selenium/yohan/data/chamoil/local.oil3.csv\")\n",
    "# df_oil4 = pd.read_csv(\"../../selenium/yohan/data/chamoil/local.oil4.csv\")\n",
    "# df_oil5 = pd.read_csv(\"../../selenium/yohan/data/chamoil/local.oil5.csv\")\n",
    "\n",
    "df_oil1 = pd.read_csv(\"../../selenium/yohan/data/ham/local.ham1.csv\")\n",
    "df_oil2 = pd.read_csv(\"../../selenium/yohan/data/ham/local.ham2.csv\")\n",
    "df_oil3 = pd.read_csv(\"../../selenium/yohan/data/ham/local.ham3.csv\")\n",
    "df_oil4 = pd.read_csv(\"../../selenium/yohan/data/ham/local.ham4.csv\")\n",
    "df_oil5 = pd.read_csv(\"../../selenium/yohan/data/ham/local.ham5.csv\")\n",
    "\n",
    "\n",
    "# df_oil1 = pd.read_csv(\"../../selenium/yohan/data/kyoja/local.kyoja1.csv\")\n",
    "# df_oil2 = pd.read_csv(\"../../selenium/yohan/data/kyoja/local.kyoja2.csv\")\n",
    "# df_oil3 = pd.read_csv(\"../../selenium/yohan/data/kyoja/local.kyoja3.csv\")\n",
    "# df_oil4 = pd.read_csv(\"../../selenium/yohan/data/kyoja/local.kyoja4.csv\")\n",
    "# df_oil5 = pd.read_csv(\"../../selenium/yohan/data/kyoja/local.ham5.csv\")\n",
    "\n",
    "# df_oil1 = pd.read_csv(\"../../selenium/yohan/data/tomato_source/local.tomato1.csv\")\n",
    "# df_oil2 = pd.read_csv(\"../../selenium/yohan/data/tomato_source/local.tomato2.csv\")\n",
    "# df_oil3 = pd.read_csv(\"../../selenium/yohan/data/tomato_source/local.tomato3.csv\")\n",
    "# df_oil4 = pd.read_csv(\"../../selenium/yohan/data/tomato_source/local.kyoja4.csv\")\n",
    "# df_oil5 = pd.read_csv(\"../../selenium/yohan/data/kyoja/local.ham5.csv\")\n",
    "\n",
    "\n",
    "dfs = [df_oil1,df_oil2,df_oil3,df_oil4]"
   ]
  },
  {
   "cell_type": "code",
   "execution_count": 43,
   "metadata": {},
   "outputs": [],
   "source": [
    "# object로 되어 있는 날짜 데이터를 datetime으로 변환\n",
    "for i in dfs:\n",
    "    i['textDate'] = pd.to_datetime(i['textDate'])"
   ]
  },
  {
   "cell_type": "code",
   "execution_count": 44,
   "metadata": {},
   "outputs": [
    {
     "name": "stdout",
     "output_type": "stream",
     "text": [
      "2007-06-05 00:00:00\n",
      "2023-04-22 00:00:00\n",
      "2008-07-02 00:00:00\n",
      "2021-07-02 00:00:00\n"
     ]
    }
   ],
   "source": [
    "# 같은 기간내 자료를 확인하기 위해 겹쳐지는 최대 날짜 확인\n",
    "for i in dfs:\n",
    "    print(min(i['textDate']))"
   ]
  },
  {
   "cell_type": "code",
   "execution_count": 40,
   "metadata": {},
   "outputs": [],
   "source": [
    "# 통합 데이터 제작\n",
    "df_bibim = pd.DataFrame()\n",
    "df_bibim = pd.concat(dfs)\n",
    "# 기간 내 데이터 활용\n",
    "df_bibim = df_bibim.query('textDate >= \"2021-06-09\"')"
   ]
  },
  {
   "cell_type": "code",
   "execution_count": 41,
   "metadata": {},
   "outputs": [
    {
     "name": "stderr",
     "output_type": "stream",
     "text": [
      "C:\\Users\\서울디지털인재개발원\\AppData\\Local\\Temp\\ipykernel_11708\\2733051404.py:3: SettingWithCopyWarning: \n",
      "A value is trying to be set on a copy of a slice from a DataFrame.\n",
      "Try using .loc[row_indexer,col_indexer] = value instead\n",
      "\n",
      "See the caveats in the documentation: https://pandas.pydata.org/pandas-docs/stable/user_guide/indexing.html#returning-a-view-versus-a-copy\n",
      "  labeling_data['textLevel'] = labeling_data['textLevel'].apply(labeling)\n"
     ]
    },
    {
     "data": {
      "text/plain": [
       "(array([1, 0], dtype=int64),\n",
       " textLevel\n",
       " 1    28054\n",
       " 0       77\n",
       " Name: count, dtype: int64)"
      ]
     },
     "execution_count": 41,
     "metadata": {},
     "output_type": "execute_result"
    }
   ],
   "source": [
    "labeling_data = pd.DataFrame()\n",
    "labeling_data = df_bibim[[\"textLevel\",\"textContent\"]]\n",
    "labeling_data['textLevel'] = labeling_data['textLevel'].apply(labeling)\n",
    "save_data_bibim = labeling_data.query(\"textLevel.isin([1,0])\")\n",
    "save_data_bibim['textLevel'].unique(), save_data_bibim['textLevel'].value_counts()"
   ]
  },
  {
   "cell_type": "code",
   "execution_count": null,
   "metadata": {},
   "outputs": [],
   "source": []
  }
 ],
 "metadata": {
  "kernelspec": {
   "display_name": "Python 3",
   "language": "python",
   "name": "python3"
  },
  "language_info": {
   "codemirror_mode": {
    "name": "ipython",
    "version": 3
   },
   "file_extension": ".py",
   "mimetype": "text/x-python",
   "name": "python",
   "nbconvert_exporter": "python",
   "pygments_lexer": "ipython3",
   "version": "3.11.8"
  }
 },
 "nbformat": 4,
 "nbformat_minor": 2
}
