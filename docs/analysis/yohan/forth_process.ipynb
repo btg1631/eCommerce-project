{
 "cells": [
  {
   "cell_type": "code",
   "execution_count": 1,
   "metadata": {},
   "outputs": [],
   "source": [
    "import pandas as pd"
   ]
  },
  {
   "cell_type": "code",
   "execution_count": 2,
   "metadata": {},
   "outputs": [],
   "source": [
    "# 모든 데이터 로드\n",
    "df_bibim1 = pd.read_csv(\"../../selenium/yohan/data/bibim/local.bibim1.csv\")\n",
    "df_bibim2 = pd.read_csv(\"../../selenium/yohan/data/bibim/local.bibim2.csv\")\n",
    "df_bibim3 = pd.read_csv(\"../../selenium/yohan/data/bibim/local.bibim3.csv\")\n",
    "df_bibim4 = pd.read_csv(\"../../selenium/yohan/data/bibim/local.bibim4.csv\")\n",
    "\n",
    "df_oil1 = pd.read_csv(\"../../selenium/yohan/data/chamoil/local.oil1.csv\")\n",
    "df_oil2 = pd.read_csv(\"../../selenium/yohan/data/chamoil/local.oil2.csv\")\n",
    "df_oil3 = pd.read_csv(\"../../selenium/yohan/data/chamoil/local.oil3.csv\")\n",
    "df_oil4 = pd.read_csv(\"../../selenium/yohan/data/chamoil/local.oil4.csv\")\n",
    "df_oil5 = pd.read_csv(\"../../selenium/yohan/data/chamoil/local.oil5.csv\")\n",
    "\n",
    "df_ham1 = pd.read_csv(\"../../selenium/yohan/data/ham/local.ham1.csv\")\n",
    "df_ham2 = pd.read_csv(\"../../selenium/yohan/data/ham/local.ham2.csv\")\n",
    "df_ham3 = pd.read_csv(\"../../selenium/yohan/data/ham/local.ham3.csv\")\n",
    "df_ham4 = pd.read_csv(\"../../selenium/yohan/data/ham/local.ham4.csv\")\n",
    "df_ham5 = pd.read_csv(\"../../selenium/yohan/data/ham/local.ham5.csv\")\n",
    "\n",
    "df_kyoja1 = pd.read_csv(\"../../selenium/yohan/data/kyoja/local.kyoja1.csv\")\n",
    "df_kyoja2 = pd.read_csv(\"../../selenium/yohan/data/kyoja/local.kyoja2.csv\")\n",
    "df_kyoja3 = pd.read_csv(\"../../selenium/yohan/data/kyoja/local.kyoja3.csv\")\n",
    "df_kyoja4 = pd.read_csv(\"../../selenium/yohan/data/kyoja/local.kyoja4.csv\")\n",
    "\n",
    "df_tomato1 = pd.read_csv(\"../../selenium/yohan/data/tomato_source/local.tomato1.csv\")\n",
    "df_tomato2 = pd.read_csv(\"../../selenium/yohan/data/tomato_source/local.tomato2.csv\")\n",
    "df_tomato3 = pd.read_csv(\"../../selenium/yohan/data/tomato_source/local.tomato3.csv\")\n",
    "\n",
    "df_canola1 = pd.read_csv(\"../../selenium/youjin/data/canola_oil/ssg.canola_oil1.csv\")\n",
    "df_canola2 = pd.read_csv(\"../../selenium/youjin/data/canola_oil/ssg.canola_oil2.csv\")\n",
    "df_canola3 = pd.read_csv(\"../../selenium/youjin/data/canola_oil/ssg.canola_oil3.csv\")\n",
    "df_canola4 = pd.read_csv(\"../../selenium/youjin/data/canola_oil/ssg.canola_oil4.csv\")\n",
    "\n",
    "df_kimchi1 = pd.read_csv(\"../../selenium/youjin/data/kimchi/ssg.kimchi1.csv\")\n",
    "df_kimchi2 = pd.read_csv(\"../../selenium/youjin/data/kimchi/ssg.kimchi2.csv\")\n",
    "df_kimchi3 = pd.read_csv(\"../../selenium/youjin/data/kimchi/ssg.kimchi3.csv\")\n",
    "df_kimchi4 = pd.read_csv(\"../../selenium/youjin/data/kimchi/ssg.kimchi4.csv\")\n",
    "\n",
    "df_mung_bean_sprouts1 = pd.read_csv(\"../../selenium/youjin/data/mung_bean_sprouts/ssg.mung_bean_sprouts1.csv\")\n",
    "df_mung_bean_sprouts2 = pd.read_csv(\"../../selenium/youjin/data/mung_bean_sprouts/ssg.mung_bean_sprouts2.csv\")\n",
    "df_mung_bean_sprouts3 = pd.read_csv(\"../../selenium/youjin/data/mung_bean_sprouts/ssg.mung_bean_sprouts3.csv\")\n",
    "df_mung_bean_sprouts4 = pd.read_csv(\"../../selenium/youjin/data/mung_bean_sprouts/ssg.mung_bean_sprouts4.csv\")\n",
    "\n",
    "df_pancake_powder1 = pd.read_csv(\"../../selenium/youjin/data/pancake_powder/ssg.pancake_powder1.csv\")\n",
    "df_pancake_powder2 = pd.read_csv(\"../../selenium/youjin/data/pancake_powder/ssg.pancake_powder2.csv\")\n",
    "df_pancake_powder3 = pd.read_csv(\"../../selenium/youjin/data/pancake_powder/ssg.pancake_powder3.csv\")\n",
    "df_pancake_powder4 = pd.read_csv(\"../../selenium/youjin/data/pancake_powder/ssg.pancake_powder4.csv\")\n",
    "\n",
    "df_rice1 = pd.read_csv(\"../../selenium/youjin/data/rice/ssg.rice1.csv\")\n",
    "df_rice2 = pd.read_csv(\"../../selenium/youjin/data/rice/ssg.rice2.csv\")\n",
    "df_rice3 = pd.read_csv(\"../../selenium/youjin/data/rice/ssg.rice3.csv\")\n",
    "df_rice4 = pd.read_csv(\"../../selenium/youjin/data/rice/ssg.rice4.csv\")\n",
    "df_rice5 = pd.read_csv(\"../../selenium/youjin/data/rice/ssg.rice5.csv\")\n",
    "\n",
    "df_bread1 = pd.read_csv(\"../../selenium/youngji/data/local.bread_1.csv\")\n",
    "df_bread2 = pd.read_csv(\"../../selenium/youngji/data/local.bread_2.csv\")\n",
    "df_bread3 = pd.read_csv(\"../../selenium/youngji/data/local.bread_3.csv\")\n",
    "df_bread4 = pd.read_csv(\"../../selenium/youngji/data/local.bread_4.csv\")\n",
    "\n",
    "df_cheese1 = pd.read_csv(\"../../selenium/youngji/data/local.cheese_1.csv\")\n",
    "df_cheese2 = pd.read_csv(\"../../selenium/youngji/data/local.cheese_2.csv\")\n",
    "df_cheese3 = pd.read_csv(\"../../selenium/youngji/data/local.cheese_3.csv\")\n",
    "\n",
    "df_milk1 = pd.read_csv(\"../../selenium/youngji/data/local.milk_1.csv\")\n",
    "df_milk2 = pd.read_csv(\"../../selenium/youngji/data/local.milk_2.csv\")\n",
    "df_milk3 = pd.read_csv(\"../../selenium/youngji/data/local.milk_3.csv\")\n",
    "\n",
    "df_water1 = pd.read_csv(\"../../selenium/youngji/data/local.water_1.csv\")\n",
    "df_water2 = pd.read_csv(\"../../selenium/youngji/data/local.water_2.csv\")\n",
    "df_water3 = pd.read_csv(\"../../selenium/youngji/data/local.water_3.csv\")\n",
    "\n",
    "df_yogurt1 = pd.read_csv(\"../../selenium/youngji/data/local.yogurt_1.csv\")\n",
    "df_yogurt2 = pd.read_csv(\"../../selenium/youngji/data/local.yogurt_2.csv\")\n",
    "df_yogurt3 = pd.read_csv(\"../../selenium/youngji/data/local.yogurt_3.csv\")\n",
    "\n",
    "dfs = [df_bibim1,df_bibim2,df_bibim3,df_bibim4,df_oil1,df_oil2,df_oil3,df_oil4,df_ham1,df_ham2,df_ham3,df_ham4,df_ham5,df_kyoja1,df_kyoja2,df_kyoja3,df_kyoja4,df_tomato1,df_tomato2,df_tomato3,df_canola1,df_canola2,df_canola3,df_canola4,df_kimchi1,df_kimchi2,df_kimchi3,df_kimchi4,df_mung_bean_sprouts1,df_mung_bean_sprouts2,df_mung_bean_sprouts3,df_mung_bean_sprouts4,df_pancake_powder1,df_pancake_powder2,df_pancake_powder3,df_pancake_powder4,df_rice1,df_rice2,df_rice3,df_rice4,df_rice5,df_bread1,df_bread2,df_bread3,df_bread4,df_cheese1,df_cheese2,df_cheese3,df_milk1,df_milk2,df_milk3,df_water1,df_water2,df_water3,df_yogurt1,df_yogurt2,df_yogurt3]"
   ]
  },
  {
   "cell_type": "markdown",
   "metadata": {},
   "source": [
    "- 각 데이터에 대한 긍정 부정 비교 함수 제작"
   ]
  },
  {
   "cell_type": "code",
   "execution_count": 3,
   "metadata": {},
   "outputs": [],
   "source": [
    "# 3점을 제외한 나머지 라벨링 작업 함수 제작\n",
    "def labeling(text):\n",
    "    if text in [4,5]:\n",
    "        text = 1\n",
    "    elif text in [1,2]:\n",
    "        text = 0\n",
    "    else:\n",
    "        pass\n",
    "    return text"
   ]
  },
  {
   "cell_type": "code",
   "execution_count": 39,
   "metadata": {},
   "outputs": [],
   "source": [
    "def compare_data(dfs_list,labeling_fuc):\n",
    "    counter = 0\n",
    "    save_data_list = []\n",
    "    for i in dfs_list:\n",
    "        # db저장시 발생했던 고유값 제거\n",
    "        i = i.drop(columns = '_id')\n",
    "\n",
    "        # 라벨링 함수 적용\n",
    "        i['textLevel'] = i['textLevel'].apply(labeling_fuc)\n",
    "        \n",
    "\n",
    "        # 딥러닝이슈로 인한 중간값 제외\n",
    "        processing_df = i.query('textLevel != 3')\n",
    "        \n",
    "        # 듀플 제거전 긍정/부정 갯수 카운트\n",
    "        posi_count = processing_df[processing_df['textLevel' == 1].shape[0]]\n",
    "        naga_count = processing_df[processing_df['textLevel' == 0].shape[0]]\n",
    "        \n",
    "        # 중복값 제거\n",
    "        processing_df = processing_df.drop_duplicates()\n",
    "\n",
    "        deldu_posi_count = processing_df[processing_df['textLevel' == 1].shape[0]]\n",
    "        deldu_naga_count = processing_df[processing_df['textLevel' == 0].shape[0]]\n",
    "\n",
    "        print(f'{i[\"merchTitle\"][0]} 제품의 제거전 긍정문의 갯수 : {posi_count}')\n",
    "        print(f'{i[\"merchTitle\"][0]} 제품의 제거전 부정문의 갯수 : {naga_count}')\n",
    "        print(f'{i[\"merchTitle\"][0]} 제품의 제거후 긍정문의 갯수 : {deldu_posi_count}')\n",
    "        print(f'{i[\"merchTitle\"][0]} 제품의 제거후 긍정문의 갯수 : {deldu_naga_count}')\n",
    "\n",
    "        # 2차원 리스트로 저장\n",
    "        append_list = [posi_count,naga_count,deldu_posi_count,deldu_naga_count]\n",
    "        save_data_list.append(append_list)\n",
    "        \n",
    "        counter += 1\n",
    "        if counter != len(dfs_list):\n",
    "            print('')\n",
    "\n",
    "    return save_data_list"
   ]
  },
  {
   "cell_type": "code",
   "execution_count": 40,
   "metadata": {},
   "outputs": [
    {
     "ename": "KeyError",
     "evalue": "False",
     "output_type": "error",
     "traceback": [
      "\u001b[1;31m---------------------------------------------------------------------------\u001b[0m",
      "\u001b[1;31mKeyError\u001b[0m                                  Traceback (most recent call last)",
      "File \u001b[1;32m~\\AppData\\Local\\Packages\\PythonSoftwareFoundation.Python.3.11_qbz5n2kfra8p0\\LocalCache\\local-packages\\Python311\\site-packages\\pandas\\core\\indexes\\base.py:3802\u001b[0m, in \u001b[0;36mIndex.get_loc\u001b[1;34m(self, key)\u001b[0m\n\u001b[0;32m   3801\u001b[0m \u001b[38;5;28;01mtry\u001b[39;00m:\n\u001b[1;32m-> 3802\u001b[0m     \u001b[38;5;28;01mreturn\u001b[39;00m \u001b[38;5;28;43mself\u001b[39;49m\u001b[38;5;241;43m.\u001b[39;49m\u001b[43m_engine\u001b[49m\u001b[38;5;241;43m.\u001b[39;49m\u001b[43mget_loc\u001b[49m\u001b[43m(\u001b[49m\u001b[43mcasted_key\u001b[49m\u001b[43m)\u001b[49m\n\u001b[0;32m   3803\u001b[0m \u001b[38;5;28;01mexcept\u001b[39;00m \u001b[38;5;167;01mKeyError\u001b[39;00m \u001b[38;5;28;01mas\u001b[39;00m err:\n",
      "File \u001b[1;32mindex.pyx:153\u001b[0m, in \u001b[0;36mpandas._libs.index.IndexEngine.get_loc\u001b[1;34m()\u001b[0m\n",
      "File \u001b[1;32mindex.pyx:182\u001b[0m, in \u001b[0;36mpandas._libs.index.IndexEngine.get_loc\u001b[1;34m()\u001b[0m\n",
      "File \u001b[1;32mpandas\\\\_libs\\\\hashtable_class_helper.pxi:7081\u001b[0m, in \u001b[0;36mpandas._libs.hashtable.PyObjectHashTable.get_item\u001b[1;34m()\u001b[0m\n",
      "File \u001b[1;32mpandas\\\\_libs\\\\hashtable_class_helper.pxi:7089\u001b[0m, in \u001b[0;36mpandas._libs.hashtable.PyObjectHashTable.get_item\u001b[1;34m()\u001b[0m\n",
      "\u001b[1;31mKeyError\u001b[0m: False",
      "\nThe above exception was the direct cause of the following exception:\n",
      "\u001b[1;31mKeyError\u001b[0m                                  Traceback (most recent call last)",
      "Cell \u001b[1;32mIn[40], line 1\u001b[0m\n\u001b[1;32m----> 1\u001b[0m save_data_list \u001b[38;5;241m=\u001b[39m \u001b[43mcompare_data\u001b[49m\u001b[43m(\u001b[49m\u001b[43mdfs\u001b[49m\u001b[43m,\u001b[49m\u001b[43mlabeling\u001b[49m\u001b[43m)\u001b[49m\n",
      "Cell \u001b[1;32mIn[39], line 16\u001b[0m, in \u001b[0;36mcompare_data\u001b[1;34m(dfs_list, labeling_fuc)\u001b[0m\n\u001b[0;32m     13\u001b[0m processing_df \u001b[38;5;241m=\u001b[39m i\u001b[38;5;241m.\u001b[39mquery(\u001b[38;5;124m'\u001b[39m\u001b[38;5;124mtextLevel != 3\u001b[39m\u001b[38;5;124m'\u001b[39m)\n\u001b[0;32m     15\u001b[0m \u001b[38;5;66;03m# 듀플 제거전 긍정/부정 갯수 카운트\u001b[39;00m\n\u001b[1;32m---> 16\u001b[0m posi_count \u001b[38;5;241m=\u001b[39m processing_df[\u001b[43mprocessing_df\u001b[49m\u001b[43m[\u001b[49m\u001b[38;5;124;43m'\u001b[39;49m\u001b[38;5;124;43mtextLevel\u001b[39;49m\u001b[38;5;124;43m'\u001b[39;49m\u001b[43m \u001b[49m\u001b[38;5;241;43m==\u001b[39;49m\u001b[43m \u001b[49m\u001b[38;5;241;43m1\u001b[39;49m\u001b[43m]\u001b[49m\u001b[38;5;241m.\u001b[39mshape[\u001b[38;5;241m0\u001b[39m]]\n\u001b[0;32m     17\u001b[0m naga_count \u001b[38;5;241m=\u001b[39m processing_df[processing_df[\u001b[38;5;124m'\u001b[39m\u001b[38;5;124mtextLevel\u001b[39m\u001b[38;5;124m'\u001b[39m \u001b[38;5;241m==\u001b[39m \u001b[38;5;241m0\u001b[39m]\u001b[38;5;241m.\u001b[39mshape[\u001b[38;5;241m0\u001b[39m]]\n\u001b[0;32m     18\u001b[0m \u001b[38;5;66;03m# 중복값 제거\u001b[39;00m\n",
      "File \u001b[1;32m~\\AppData\\Local\\Packages\\PythonSoftwareFoundation.Python.3.11_qbz5n2kfra8p0\\LocalCache\\local-packages\\Python311\\site-packages\\pandas\\core\\frame.py:4090\u001b[0m, in \u001b[0;36mDataFrame.__getitem__\u001b[1;34m(self, key)\u001b[0m\n\u001b[0;32m   4088\u001b[0m \u001b[38;5;28;01mif\u001b[39;00m \u001b[38;5;28mself\u001b[39m\u001b[38;5;241m.\u001b[39mcolumns\u001b[38;5;241m.\u001b[39mnlevels \u001b[38;5;241m>\u001b[39m \u001b[38;5;241m1\u001b[39m:\n\u001b[0;32m   4089\u001b[0m     \u001b[38;5;28;01mreturn\u001b[39;00m \u001b[38;5;28mself\u001b[39m\u001b[38;5;241m.\u001b[39m_getitem_multilevel(key)\n\u001b[1;32m-> 4090\u001b[0m indexer \u001b[38;5;241m=\u001b[39m \u001b[38;5;28;43mself\u001b[39;49m\u001b[38;5;241;43m.\u001b[39;49m\u001b[43mcolumns\u001b[49m\u001b[38;5;241;43m.\u001b[39;49m\u001b[43mget_loc\u001b[49m\u001b[43m(\u001b[49m\u001b[43mkey\u001b[49m\u001b[43m)\u001b[49m\n\u001b[0;32m   4091\u001b[0m \u001b[38;5;28;01mif\u001b[39;00m is_integer(indexer):\n\u001b[0;32m   4092\u001b[0m     indexer \u001b[38;5;241m=\u001b[39m [indexer]\n",
      "File \u001b[1;32m~\\AppData\\Local\\Packages\\PythonSoftwareFoundation.Python.3.11_qbz5n2kfra8p0\\LocalCache\\local-packages\\Python311\\site-packages\\pandas\\core\\indexes\\base.py:3809\u001b[0m, in \u001b[0;36mIndex.get_loc\u001b[1;34m(self, key)\u001b[0m\n\u001b[0;32m   3804\u001b[0m     \u001b[38;5;28;01mif\u001b[39;00m \u001b[38;5;28misinstance\u001b[39m(casted_key, \u001b[38;5;28mslice\u001b[39m) \u001b[38;5;129;01mor\u001b[39;00m (\n\u001b[0;32m   3805\u001b[0m         \u001b[38;5;28misinstance\u001b[39m(casted_key, abc\u001b[38;5;241m.\u001b[39mIterable)\n\u001b[0;32m   3806\u001b[0m         \u001b[38;5;129;01mand\u001b[39;00m \u001b[38;5;28many\u001b[39m(\u001b[38;5;28misinstance\u001b[39m(x, \u001b[38;5;28mslice\u001b[39m) \u001b[38;5;28;01mfor\u001b[39;00m x \u001b[38;5;129;01min\u001b[39;00m casted_key)\n\u001b[0;32m   3807\u001b[0m     ):\n\u001b[0;32m   3808\u001b[0m         \u001b[38;5;28;01mraise\u001b[39;00m InvalidIndexError(key)\n\u001b[1;32m-> 3809\u001b[0m     \u001b[38;5;28;01mraise\u001b[39;00m \u001b[38;5;167;01mKeyError\u001b[39;00m(key) \u001b[38;5;28;01mfrom\u001b[39;00m \u001b[38;5;21;01merr\u001b[39;00m\n\u001b[0;32m   3810\u001b[0m \u001b[38;5;28;01mexcept\u001b[39;00m \u001b[38;5;167;01mTypeError\u001b[39;00m:\n\u001b[0;32m   3811\u001b[0m     \u001b[38;5;66;03m# If we have a listlike key, _check_indexing_error will raise\u001b[39;00m\n\u001b[0;32m   3812\u001b[0m     \u001b[38;5;66;03m#  InvalidIndexError. Otherwise we fall through and re-raise\u001b[39;00m\n\u001b[0;32m   3813\u001b[0m     \u001b[38;5;66;03m#  the TypeError.\u001b[39;00m\n\u001b[0;32m   3814\u001b[0m     \u001b[38;5;28mself\u001b[39m\u001b[38;5;241m.\u001b[39m_check_indexing_error(key)\n",
      "\u001b[1;31mKeyError\u001b[0m: False"
     ]
    }
   ],
   "source": [
    "save_data_list = compare_data(dfs,labeling)"
   ]
  },
  {
   "cell_type": "code",
   "execution_count": null,
   "metadata": {},
   "outputs": [],
   "source": []
  }
 ],
 "metadata": {
  "kernelspec": {
   "display_name": "Python 3",
   "language": "python",
   "name": "python3"
  },
  "language_info": {
   "codemirror_mode": {
    "name": "ipython",
    "version": 3
   },
   "file_extension": ".py",
   "mimetype": "text/x-python",
   "name": "python",
   "nbconvert_exporter": "python",
   "pygments_lexer": "ipython3",
   "version": "3.11.9"
  }
 },
 "nbformat": 4,
 "nbformat_minor": 2
}
